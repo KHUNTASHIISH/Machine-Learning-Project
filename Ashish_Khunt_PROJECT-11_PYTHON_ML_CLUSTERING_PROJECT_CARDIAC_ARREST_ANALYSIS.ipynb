{
 "cells": [
  {
   "cell_type": "code",
   "execution_count": 1,
   "id": "1d1f9d63",
   "metadata": {},
   "outputs": [],
   "source": [
    "import pandas as pd\n",
    "import numpy as np\n",
    "import matplotlib.pyplot as plt\n",
    "import seaborn as sns\n",
    "from sklearn.cluster import KMeans"
   ]
  },
  {
   "cell_type": "code",
   "execution_count": null,
   "id": "716a2835",
   "metadata": {},
   "outputs": [],
   "source": []
  },
  {
   "cell_type": "code",
   "execution_count": 2,
   "id": "d4bc1432",
   "metadata": {},
   "outputs": [
    {
     "name": "stdout",
     "output_type": "stream",
     "text": [
      "D:\\FINGERTIPS DATA SCIENCE\\READING MATERIALS\\PROJECTS\\PYTHON_ML\\PROJECT-11 PYTHON_ML_CLUSTERING_PROJECT_CARDIAC_ARREST_ANALYSIS\n"
     ]
    }
   ],
   "source": [
    "cd D:\\FINGERTIPS DATA SCIENCE\\READING MATERIALS\\PROJECTS\\PYTHON_ML\\PROJECT-11 PYTHON_ML_CLUSTERING_PROJECT_CARDIAC_ARREST_ANALYSIS"
   ]
  },
  {
   "cell_type": "code",
   "execution_count": null,
   "id": "e4a519f1",
   "metadata": {},
   "outputs": [],
   "source": []
  },
  {
   "cell_type": "markdown",
   "id": "4b2399ba",
   "metadata": {},
   "source": [
    "# Part-1: Data Exploration and Pre-processing"
   ]
  },
  {
   "cell_type": "code",
   "execution_count": 126,
   "id": "2a5a3ac1",
   "metadata": {},
   "outputs": [],
   "source": [
    "# 1. Load dataset\n",
    "df = pd.read_csv(\"Python_Clustering_Pr.csv\")"
   ]
  },
  {
   "cell_type": "code",
   "execution_count": 4,
   "id": "d6c0c4cb",
   "metadata": {},
   "outputs": [
    {
     "data": {
      "text/html": [
       "<div>\n",
       "<style scoped>\n",
       "    .dataframe tbody tr th:only-of-type {\n",
       "        vertical-align: middle;\n",
       "    }\n",
       "\n",
       "    .dataframe tbody tr th {\n",
       "        vertical-align: top;\n",
       "    }\n",
       "\n",
       "    .dataframe thead th {\n",
       "        text-align: right;\n",
       "    }\n",
       "</style>\n",
       "<table border=\"1\" class=\"dataframe\">\n",
       "  <thead>\n",
       "    <tr style=\"text-align: right;\">\n",
       "      <th></th>\n",
       "      <th>Gender</th>\n",
       "      <th>Chain_smoker</th>\n",
       "      <th>Consumes_other_tobacco_products</th>\n",
       "      <th>HighBP</th>\n",
       "      <th>Obese</th>\n",
       "      <th>Diabetes</th>\n",
       "      <th>Metabolic_syndrome</th>\n",
       "      <th>Use_of_stimulant_drugs</th>\n",
       "      <th>Family_history</th>\n",
       "      <th>History_of_preeclampsia</th>\n",
       "      <th>CABG_history</th>\n",
       "      <th>Respiratory_illness</th>\n",
       "      <th>UnderRisk</th>\n",
       "    </tr>\n",
       "  </thead>\n",
       "  <tbody>\n",
       "    <tr>\n",
       "      <th>0</th>\n",
       "      <td>1</td>\n",
       "      <td>1</td>\n",
       "      <td>1</td>\n",
       "      <td>0</td>\n",
       "      <td>1</td>\n",
       "      <td>0</td>\n",
       "      <td>0</td>\n",
       "      <td>0</td>\n",
       "      <td>1</td>\n",
       "      <td>0</td>\n",
       "      <td>0</td>\n",
       "      <td>0</td>\n",
       "      <td>no</td>\n",
       "    </tr>\n",
       "    <tr>\n",
       "      <th>1</th>\n",
       "      <td>1</td>\n",
       "      <td>0</td>\n",
       "      <td>1</td>\n",
       "      <td>0</td>\n",
       "      <td>1</td>\n",
       "      <td>0</td>\n",
       "      <td>0</td>\n",
       "      <td>0</td>\n",
       "      <td>1</td>\n",
       "      <td>0</td>\n",
       "      <td>0</td>\n",
       "      <td>0</td>\n",
       "      <td>no</td>\n",
       "    </tr>\n",
       "    <tr>\n",
       "      <th>2</th>\n",
       "      <td>1</td>\n",
       "      <td>0</td>\n",
       "      <td>1</td>\n",
       "      <td>0</td>\n",
       "      <td>1</td>\n",
       "      <td>0</td>\n",
       "      <td>0</td>\n",
       "      <td>0</td>\n",
       "      <td>1</td>\n",
       "      <td>0</td>\n",
       "      <td>0</td>\n",
       "      <td>0</td>\n",
       "      <td>no</td>\n",
       "    </tr>\n",
       "    <tr>\n",
       "      <th>3</th>\n",
       "      <td>1</td>\n",
       "      <td>0</td>\n",
       "      <td>1</td>\n",
       "      <td>0</td>\n",
       "      <td>1</td>\n",
       "      <td>0</td>\n",
       "      <td>0</td>\n",
       "      <td>0</td>\n",
       "      <td>1</td>\n",
       "      <td>0</td>\n",
       "      <td>0</td>\n",
       "      <td>0</td>\n",
       "      <td>no</td>\n",
       "    </tr>\n",
       "    <tr>\n",
       "      <th>4</th>\n",
       "      <td>1</td>\n",
       "      <td>0</td>\n",
       "      <td>0</td>\n",
       "      <td>0</td>\n",
       "      <td>0</td>\n",
       "      <td>0</td>\n",
       "      <td>1</td>\n",
       "      <td>1</td>\n",
       "      <td>0</td>\n",
       "      <td>0</td>\n",
       "      <td>0</td>\n",
       "      <td>0</td>\n",
       "      <td>no</td>\n",
       "    </tr>\n",
       "  </tbody>\n",
       "</table>\n",
       "</div>"
      ],
      "text/plain": [
       "   Gender  Chain_smoker  Consumes_other_tobacco_products  HighBP  Obese  \\\n",
       "0       1             1                                1       0      1   \n",
       "1       1             0                                1       0      1   \n",
       "2       1             0                                1       0      1   \n",
       "3       1             0                                1       0      1   \n",
       "4       1             0                                0       0      0   \n",
       "\n",
       "   Diabetes  Metabolic_syndrome  Use_of_stimulant_drugs  Family_history  \\\n",
       "0         0                   0                       0               1   \n",
       "1         0                   0                       0               1   \n",
       "2         0                   0                       0               1   \n",
       "3         0                   0                       0               1   \n",
       "4         0                   1                       1               0   \n",
       "\n",
       "   History_of_preeclampsia  CABG_history  Respiratory_illness UnderRisk  \n",
       "0                        0             0                    0        no  \n",
       "1                        0             0                    0        no  \n",
       "2                        0             0                    0        no  \n",
       "3                        0             0                    0        no  \n",
       "4                        0             0                    0        no  "
      ]
     },
     "execution_count": 4,
     "metadata": {},
     "output_type": "execute_result"
    }
   ],
   "source": [
    "df.head()"
   ]
  },
  {
   "cell_type": "code",
   "execution_count": 5,
   "id": "982a2170",
   "metadata": {},
   "outputs": [
    {
     "data": {
      "text/plain": [
       "Gender                             0\n",
       "Chain_smoker                       0\n",
       "Consumes_other_tobacco_products    0\n",
       "HighBP                             0\n",
       "Obese                              0\n",
       "Diabetes                           0\n",
       "Metabolic_syndrome                 0\n",
       "Use_of_stimulant_drugs             0\n",
       "Family_history                     0\n",
       "History_of_preeclampsia            0\n",
       "CABG_history                       0\n",
       "Respiratory_illness                0\n",
       "UnderRisk                          0\n",
       "dtype: int64"
      ]
     },
     "execution_count": 5,
     "metadata": {},
     "output_type": "execute_result"
    }
   ],
   "source": [
    "# 2. Check null values\n",
    "df.isnull().sum()"
   ]
  },
  {
   "cell_type": "code",
   "execution_count": 6,
   "id": "826ac2ed",
   "metadata": {},
   "outputs": [
    {
     "name": "stdout",
     "output_type": "stream",
     "text": [
      "<class 'pandas.core.frame.DataFrame'>\n",
      "RangeIndex: 889 entries, 0 to 888\n",
      "Data columns (total 13 columns):\n",
      " #   Column                           Non-Null Count  Dtype \n",
      "---  ------                           --------------  ----- \n",
      " 0   Gender                           889 non-null    int64 \n",
      " 1   Chain_smoker                     889 non-null    int64 \n",
      " 2   Consumes_other_tobacco_products  889 non-null    int64 \n",
      " 3   HighBP                           889 non-null    int64 \n",
      " 4   Obese                            889 non-null    int64 \n",
      " 5   Diabetes                         889 non-null    int64 \n",
      " 6   Metabolic_syndrome               889 non-null    int64 \n",
      " 7   Use_of_stimulant_drugs           889 non-null    int64 \n",
      " 8   Family_history                   889 non-null    int64 \n",
      " 9   History_of_preeclampsia          889 non-null    int64 \n",
      " 10  CABG_history                     889 non-null    int64 \n",
      " 11  Respiratory_illness              889 non-null    int64 \n",
      " 12  UnderRisk                        889 non-null    object\n",
      "dtypes: int64(12), object(1)\n",
      "memory usage: 90.4+ KB\n"
     ]
    }
   ],
   "source": [
    "# 3. Print information about dataset\n",
    "df.info()"
   ]
  },
  {
   "cell_type": "code",
   "execution_count": 7,
   "id": "f7ef68d3",
   "metadata": {},
   "outputs": [
    {
     "data": {
      "text/html": [
       "<div>\n",
       "<style scoped>\n",
       "    .dataframe tbody tr th:only-of-type {\n",
       "        vertical-align: middle;\n",
       "    }\n",
       "\n",
       "    .dataframe tbody tr th {\n",
       "        vertical-align: top;\n",
       "    }\n",
       "\n",
       "    .dataframe thead th {\n",
       "        text-align: right;\n",
       "    }\n",
       "</style>\n",
       "<table border=\"1\" class=\"dataframe\">\n",
       "  <thead>\n",
       "    <tr style=\"text-align: right;\">\n",
       "      <th></th>\n",
       "      <th>Gender</th>\n",
       "      <th>Chain_smoker</th>\n",
       "      <th>Consumes_other_tobacco_products</th>\n",
       "      <th>HighBP</th>\n",
       "      <th>Obese</th>\n",
       "      <th>Diabetes</th>\n",
       "      <th>Metabolic_syndrome</th>\n",
       "      <th>Use_of_stimulant_drugs</th>\n",
       "      <th>Family_history</th>\n",
       "      <th>History_of_preeclampsia</th>\n",
       "      <th>CABG_history</th>\n",
       "      <th>Respiratory_illness</th>\n",
       "    </tr>\n",
       "  </thead>\n",
       "  <tbody>\n",
       "    <tr>\n",
       "      <th>count</th>\n",
       "      <td>889.000000</td>\n",
       "      <td>889.000000</td>\n",
       "      <td>889.00000</td>\n",
       "      <td>889.000000</td>\n",
       "      <td>889.000000</td>\n",
       "      <td>889.000000</td>\n",
       "      <td>889.000000</td>\n",
       "      <td>889.000000</td>\n",
       "      <td>889.000000</td>\n",
       "      <td>889.000000</td>\n",
       "      <td>889.000000</td>\n",
       "      <td>889.000000</td>\n",
       "    </tr>\n",
       "    <tr>\n",
       "      <th>mean</th>\n",
       "      <td>1.258718</td>\n",
       "      <td>0.120360</td>\n",
       "      <td>0.83802</td>\n",
       "      <td>0.086614</td>\n",
       "      <td>0.919010</td>\n",
       "      <td>0.055118</td>\n",
       "      <td>0.042745</td>\n",
       "      <td>0.082115</td>\n",
       "      <td>0.925759</td>\n",
       "      <td>0.017998</td>\n",
       "      <td>0.021372</td>\n",
       "      <td>0.032621</td>\n",
       "    </tr>\n",
       "    <tr>\n",
       "      <th>std</th>\n",
       "      <td>0.500557</td>\n",
       "      <td>0.325565</td>\n",
       "      <td>0.36864</td>\n",
       "      <td>0.281427</td>\n",
       "      <td>0.272973</td>\n",
       "      <td>0.228339</td>\n",
       "      <td>0.202395</td>\n",
       "      <td>0.274694</td>\n",
       "      <td>0.262310</td>\n",
       "      <td>0.133018</td>\n",
       "      <td>0.144704</td>\n",
       "      <td>0.177742</td>\n",
       "    </tr>\n",
       "    <tr>\n",
       "      <th>min</th>\n",
       "      <td>0.000000</td>\n",
       "      <td>0.000000</td>\n",
       "      <td>0.00000</td>\n",
       "      <td>0.000000</td>\n",
       "      <td>0.000000</td>\n",
       "      <td>0.000000</td>\n",
       "      <td>0.000000</td>\n",
       "      <td>0.000000</td>\n",
       "      <td>0.000000</td>\n",
       "      <td>0.000000</td>\n",
       "      <td>0.000000</td>\n",
       "      <td>0.000000</td>\n",
       "    </tr>\n",
       "    <tr>\n",
       "      <th>25%</th>\n",
       "      <td>1.000000</td>\n",
       "      <td>0.000000</td>\n",
       "      <td>1.00000</td>\n",
       "      <td>0.000000</td>\n",
       "      <td>1.000000</td>\n",
       "      <td>0.000000</td>\n",
       "      <td>0.000000</td>\n",
       "      <td>0.000000</td>\n",
       "      <td>1.000000</td>\n",
       "      <td>0.000000</td>\n",
       "      <td>0.000000</td>\n",
       "      <td>0.000000</td>\n",
       "    </tr>\n",
       "    <tr>\n",
       "      <th>50%</th>\n",
       "      <td>1.000000</td>\n",
       "      <td>0.000000</td>\n",
       "      <td>1.00000</td>\n",
       "      <td>0.000000</td>\n",
       "      <td>1.000000</td>\n",
       "      <td>0.000000</td>\n",
       "      <td>0.000000</td>\n",
       "      <td>0.000000</td>\n",
       "      <td>1.000000</td>\n",
       "      <td>0.000000</td>\n",
       "      <td>0.000000</td>\n",
       "      <td>0.000000</td>\n",
       "    </tr>\n",
       "    <tr>\n",
       "      <th>75%</th>\n",
       "      <td>2.000000</td>\n",
       "      <td>0.000000</td>\n",
       "      <td>1.00000</td>\n",
       "      <td>0.000000</td>\n",
       "      <td>1.000000</td>\n",
       "      <td>0.000000</td>\n",
       "      <td>0.000000</td>\n",
       "      <td>0.000000</td>\n",
       "      <td>1.000000</td>\n",
       "      <td>0.000000</td>\n",
       "      <td>0.000000</td>\n",
       "      <td>0.000000</td>\n",
       "    </tr>\n",
       "    <tr>\n",
       "      <th>max</th>\n",
       "      <td>2.000000</td>\n",
       "      <td>1.000000</td>\n",
       "      <td>1.00000</td>\n",
       "      <td>1.000000</td>\n",
       "      <td>1.000000</td>\n",
       "      <td>1.000000</td>\n",
       "      <td>1.000000</td>\n",
       "      <td>1.000000</td>\n",
       "      <td>1.000000</td>\n",
       "      <td>1.000000</td>\n",
       "      <td>1.000000</td>\n",
       "      <td>1.000000</td>\n",
       "    </tr>\n",
       "  </tbody>\n",
       "</table>\n",
       "</div>"
      ],
      "text/plain": [
       "           Gender  Chain_smoker  Consumes_other_tobacco_products      HighBP  \\\n",
       "count  889.000000    889.000000                        889.00000  889.000000   \n",
       "mean     1.258718      0.120360                          0.83802    0.086614   \n",
       "std      0.500557      0.325565                          0.36864    0.281427   \n",
       "min      0.000000      0.000000                          0.00000    0.000000   \n",
       "25%      1.000000      0.000000                          1.00000    0.000000   \n",
       "50%      1.000000      0.000000                          1.00000    0.000000   \n",
       "75%      2.000000      0.000000                          1.00000    0.000000   \n",
       "max      2.000000      1.000000                          1.00000    1.000000   \n",
       "\n",
       "            Obese    Diabetes  Metabolic_syndrome  Use_of_stimulant_drugs  \\\n",
       "count  889.000000  889.000000          889.000000              889.000000   \n",
       "mean     0.919010    0.055118            0.042745                0.082115   \n",
       "std      0.272973    0.228339            0.202395                0.274694   \n",
       "min      0.000000    0.000000            0.000000                0.000000   \n",
       "25%      1.000000    0.000000            0.000000                0.000000   \n",
       "50%      1.000000    0.000000            0.000000                0.000000   \n",
       "75%      1.000000    0.000000            0.000000                0.000000   \n",
       "max      1.000000    1.000000            1.000000                1.000000   \n",
       "\n",
       "       Family_history  History_of_preeclampsia  CABG_history  \\\n",
       "count      889.000000               889.000000    889.000000   \n",
       "mean         0.925759                 0.017998      0.021372   \n",
       "std          0.262310                 0.133018      0.144704   \n",
       "min          0.000000                 0.000000      0.000000   \n",
       "25%          1.000000                 0.000000      0.000000   \n",
       "50%          1.000000                 0.000000      0.000000   \n",
       "75%          1.000000                 0.000000      0.000000   \n",
       "max          1.000000                 1.000000      1.000000   \n",
       "\n",
       "       Respiratory_illness  \n",
       "count           889.000000  \n",
       "mean              0.032621  \n",
       "std               0.177742  \n",
       "min               0.000000  \n",
       "25%               0.000000  \n",
       "50%               0.000000  \n",
       "75%               0.000000  \n",
       "max               1.000000  "
      ]
     },
     "execution_count": 7,
     "metadata": {},
     "output_type": "execute_result"
    }
   ],
   "source": [
    "# 4. Describe dataset in statistic form\n",
    "df.describe()"
   ]
  },
  {
   "cell_type": "code",
   "execution_count": 128,
   "id": "c3754573",
   "metadata": {},
   "outputs": [],
   "source": [
    "# 5. Drop under risk column\n",
    "df.drop([\"UnderRisk\"],axis=1,inplace=True)"
   ]
  },
  {
   "cell_type": "code",
   "execution_count": 9,
   "id": "43afcd43",
   "metadata": {},
   "outputs": [
    {
     "data": {
      "text/plain": [
       "(889, 12)"
      ]
     },
     "execution_count": 9,
     "metadata": {},
     "output_type": "execute_result"
    }
   ],
   "source": [
    "df.shape"
   ]
  },
  {
   "cell_type": "markdown",
   "id": "fac233fb",
   "metadata": {},
   "source": [
    "# Part-2: Working with Models\n"
   ]
  },
  {
   "cell_type": "code",
   "execution_count": 139,
   "id": "55f63897",
   "metadata": {},
   "outputs": [],
   "source": [
    "# 1. Apply Kmean clustering on dataset\n",
    "# model=KMeans(n_clusters=3)\n",
    "model=KMeans(n_clusters=10)"
   ]
  },
  {
   "cell_type": "code",
   "execution_count": 140,
   "id": "b4ebc6e4",
   "metadata": {},
   "outputs": [
    {
     "data": {
      "text/plain": [
       "KMeans(n_clusters=10)"
      ]
     },
     "execution_count": 140,
     "metadata": {},
     "output_type": "execute_result"
    }
   ],
   "source": [
    "model.fit(df)"
   ]
  },
  {
   "cell_type": "code",
   "execution_count": 141,
   "id": "874c74f7",
   "metadata": {},
   "outputs": [
    {
     "data": {
      "text/plain": [
       "array([7, 0, 0, 0, 3, 1, 6, 1, 0, 6, 9, 0, 8, 0, 0, 0, 1, 4, 8, 0, 0, 0,\n",
       "       2, 1, 0, 8, 2, 6, 0, 2, 1, 2, 1, 4, 1, 0, 4, 1, 0, 0, 0, 1, 8, 1,\n",
       "       2, 1, 1, 0, 9, 3, 8, 8, 0, 1, 0, 0, 4, 4, 1, 0, 1, 2, 0, 0, 0, 0,\n",
       "       0, 2, 0, 7, 1, 0, 2, 0, 0, 2, 7, 0, 0, 7, 7, 5, 1, 6, 0, 1, 0, 7,\n",
       "       8, 0, 8, 9, 8, 0, 0, 0, 8, 0, 2, 9, 0, 0, 8, 0, 0, 2, 0, 1, 1, 2,\n",
       "       7, 0, 2, 0, 4, 1, 1, 0, 1, 6, 3, 8, 0, 1, 6, 0, 5, 8, 8, 1, 8, 0,\n",
       "       8, 0, 0, 8, 1, 1, 2, 2, 8, 0, 0, 1, 1, 9, 0, 7, 3, 0, 7, 0, 4, 1,\n",
       "       0, 2, 2, 0, 0, 0, 0, 7, 6, 8, 0, 1, 1, 1, 6, 2, 0, 5, 0, 4, 0, 4,\n",
       "       0, 7, 0, 1, 1, 0, 0, 0, 1, 1, 0, 0, 7, 1, 0, 0, 8, 1, 0, 0, 8, 8,\n",
       "       2, 0, 1, 1, 7, 1, 1, 2, 8, 0, 1, 0, 4, 1, 0, 0, 8, 0, 1, 4, 0, 9,\n",
       "       8, 0, 0, 3, 0, 0, 0, 5, 8, 8, 0, 0, 2, 2, 0, 9, 3, 8, 1, 0, 0, 1,\n",
       "       1, 0, 0, 0, 0, 0, 9, 1, 0, 6, 0, 0, 8, 0, 1, 7, 0, 8, 0, 4, 0, 0,\n",
       "       0, 7, 1, 2, 8, 1, 8, 0, 1, 0, 0, 1, 0, 1, 0, 1, 0, 9, 7, 0, 6, 0,\n",
       "       0, 5, 5, 1, 1, 0, 0, 0, 4, 1, 4, 8, 1, 2, 2, 8, 1, 0, 0, 0, 0, 0,\n",
       "       0, 6, 9, 1, 6, 0, 1, 6, 1, 4, 0, 0, 0, 8, 6, 0, 0, 3, 6, 1, 1, 0,\n",
       "       4, 0, 3, 4, 0, 1, 0, 3, 5, 8, 3, 1, 1, 2, 0, 6, 6, 1, 1, 1, 1, 6,\n",
       "       0, 0, 0, 0, 7, 7, 1, 0, 1, 4, 0, 0, 0, 4, 0, 0, 6, 9, 7, 7, 1, 0,\n",
       "       1, 8, 5, 3, 8, 1, 1, 0, 1, 0, 7, 0, 1, 0, 0, 1, 1, 1, 5, 0, 0, 6,\n",
       "       0, 0, 8, 7, 0, 3, 0, 8, 7, 0, 0, 0, 0, 1, 0, 1, 7, 8, 8, 1, 0, 8,\n",
       "       1, 3, 1, 8, 0, 1, 3, 1, 2, 7, 0, 0, 2, 3, 0, 0, 1, 0, 1, 0, 7, 0,\n",
       "       0, 1, 8, 2, 0, 0, 6, 1, 7, 8, 0, 6, 4, 0, 0, 0, 1, 4, 0, 0, 0, 9,\n",
       "       0, 0, 6, 2, 3, 6, 0, 1, 8, 4, 3, 0, 8, 0, 3, 8, 3, 0, 7, 1, 0, 1,\n",
       "       1, 0, 0, 0, 0, 1, 0, 0, 1, 4, 1, 7, 0, 0, 4, 7, 1, 0, 0, 0, 0, 1,\n",
       "       0, 0, 0, 1, 0, 0, 3, 0, 4, 8, 3, 0, 3, 8, 1, 1, 0, 6, 6, 1, 6, 0,\n",
       "       1, 8, 8, 9, 1, 0, 1, 1, 0, 7, 1, 0, 0, 1, 1, 7, 4, 8, 0, 8, 0, 7,\n",
       "       8, 2, 4, 3, 0, 1, 3, 0, 0, 0, 2, 0, 8, 7, 1, 1, 7, 0, 8, 0, 2, 2,\n",
       "       0, 0, 8, 4, 7, 1, 0, 0, 8, 5, 8, 7, 7, 1, 2, 0, 7, 7, 1, 0, 5, 0,\n",
       "       2, 3, 0, 1, 9, 5, 6, 6, 1, 2, 8, 9, 8, 0, 5, 7, 7, 1, 0, 2, 4, 8,\n",
       "       0, 0, 0, 1, 1, 1, 0, 2, 2, 4, 0, 1, 1, 4, 0, 2, 2, 9, 1, 0, 2, 4,\n",
       "       0, 3, 0, 1, 1, 1, 0, 0, 4, 5, 0, 1, 0, 1, 0, 1, 0, 0, 8, 0, 0, 0,\n",
       "       0, 2, 0, 7, 0, 0, 5, 2, 1, 9, 0, 8, 1, 1, 2, 3, 1, 1, 2, 4, 1, 1,\n",
       "       8, 4, 0, 1, 1, 1, 0, 0, 8, 9, 7, 7, 0, 8, 6, 3, 0, 8, 0, 3, 1, 8,\n",
       "       2, 1, 1, 6, 6, 1, 0, 2, 1, 0, 1, 0, 7, 0, 1, 0, 9, 5, 7, 1, 1, 1,\n",
       "       6, 9, 0, 9, 0, 8, 9, 9, 0, 0, 9, 0, 1, 8, 0, 7, 0, 2, 2, 7, 1, 2,\n",
       "       0, 8, 7, 2, 0, 0, 1, 8, 5, 8, 7, 0, 3, 3, 5, 3, 0, 1, 0, 2, 0, 8,\n",
       "       0, 0, 4, 8, 1, 1, 0, 9, 0, 1, 3, 5, 9, 1, 0, 1, 0, 4, 0, 0, 7, 2,\n",
       "       0, 3, 8, 1, 0, 8, 0, 0, 7, 1, 0, 4, 2, 7, 3, 1, 0, 2, 0, 1, 1, 0,\n",
       "       2, 1, 1, 0, 1, 0, 6, 0, 1, 7, 8, 0, 0, 1, 1, 1, 1, 8, 0, 5, 0, 8,\n",
       "       0, 0, 2, 3, 0, 8, 0, 0, 0, 0, 1, 1, 0, 4, 0, 7, 8, 8, 1, 9, 7, 1,\n",
       "       2, 1, 1, 0, 7, 2, 8, 3, 0, 0, 1, 0, 0, 7, 1, 8, 8, 7, 1, 8, 0, 8,\n",
       "       0, 7, 2, 1, 1, 0, 2, 6, 7])"
      ]
     },
     "execution_count": 141,
     "metadata": {},
     "output_type": "execute_result"
    }
   ],
   "source": [
    "y_predicted=model.fit_predict(df)\n",
    "y_predicted"
   ]
  },
  {
   "cell_type": "code",
   "execution_count": null,
   "id": "26e7605b",
   "metadata": {},
   "outputs": [],
   "source": []
  },
  {
   "cell_type": "code",
   "execution_count": 142,
   "id": "b953cffc",
   "metadata": {},
   "outputs": [
    {
     "data": {
      "text/plain": [
       "array([[ 1.00308642e+00,  1.11022302e-16,  9.84567901e-01,\n",
       "         9.71445147e-17,  9.96913580e-01,  9.25925926e-03,\n",
       "        -3.46944695e-17,  3.08641975e-03,  1.00000000e+00,\n",
       "         2.77555756e-17,  4.32098765e-02, -1.38777878e-17,\n",
       "         1.00000000e+00],\n",
       "       [ 2.00000000e+00, -9.71445147e-17,  1.00000000e+00,\n",
       "         6.93889390e-17,  1.00000000e+00,  3.66492147e-02,\n",
       "        -2.77555756e-17, -1.38777878e-17,  9.79057592e-01,\n",
       "        -1.04083409e-17, -1.38777878e-17,  2.08166817e-17,\n",
       "         5.00000000e+00],\n",
       "       [ 1.14285714e+00,  1.90476190e-01,  6.98412698e-01,\n",
       "         1.00000000e+00,  1.00000000e+00,  1.38777878e-17,\n",
       "        -1.38777878e-17,  0.00000000e+00,  1.00000000e+00,\n",
       "        -6.93889390e-18, -6.93889390e-18, -6.93889390e-18,\n",
       "         8.00000000e+00],\n",
       "       [ 1.02702703e+00,  1.08108108e-01,  2.16216216e-01,\n",
       "         2.70270270e-02,  0.00000000e+00,  8.10810811e-02,\n",
       "         1.00000000e+00,  1.00000000e+00,  8.10810811e-02,\n",
       "        -3.46944695e-18, -3.46944695e-18, -6.93889390e-18,\n",
       "         6.00000000e+00],\n",
       "       [ 9.74358974e-01,  7.69230769e-02,  1.00000000e+00,\n",
       "         5.12820513e-02,  1.00000000e+00,  8.20512821e-01,\n",
       "         0.00000000e+00,  0.00000000e+00,  1.00000000e+00,\n",
       "         3.33333333e-01,  0.00000000e+00, -6.93889390e-18,\n",
       "         3.00000000e+00],\n",
       "       [ 0.00000000e+00,  5.00000000e-02,  8.00000000e-01,\n",
       "         5.00000000e-02,  1.00000000e+00, -6.93889390e-18,\n",
       "         5.00000000e-02,  0.00000000e+00,  1.00000000e+00,\n",
       "         0.00000000e+00,  0.00000000e+00,  0.00000000e+00,\n",
       "         9.00000000e+00],\n",
       "       [ 1.40000000e+00,  4.16333634e-17,  1.00000000e+00,\n",
       "         8.57142857e-02,  2.85714286e-02,  0.00000000e+00,\n",
       "         0.00000000e+00,  1.00000000e+00,  1.00000000e+00,\n",
       "        -3.46944695e-18,  0.00000000e+00,  5.71428571e-02,\n",
       "         4.00000000e+00],\n",
       "       [ 1.16129032e+00,  1.00000000e+00,  1.00000000e+00,\n",
       "         4.83870968e-02,  1.00000000e+00,  0.00000000e+00,\n",
       "        -1.38777878e-17,  0.00000000e+00,  1.00000000e+00,\n",
       "         3.22580645e-02,  8.06451613e-02,  0.00000000e+00,\n",
       "         2.03225806e+00],\n",
       "       [ 1.18681319e+00,  2.52747253e-01,  8.79120879e-02,\n",
       "        -1.38777878e-17,  1.00000000e+00,  3.29670330e-02,\n",
       "        -2.08166817e-17,  0.00000000e+00,  6.92307692e-01,\n",
       "         1.09890110e-02, -1.04083409e-17, -1.38777878e-17,\n",
       "        -4.44089210e-16],\n",
       "       [ 1.29629630e+00,  7.40740741e-02,  8.51851852e-01,\n",
       "         1.48148148e-01,  1.00000000e+00,  3.70370370e-02,\n",
       "         0.00000000e+00,  0.00000000e+00,  1.00000000e+00,\n",
       "         0.00000000e+00,  0.00000000e+00,  1.00000000e+00,\n",
       "         7.00000000e+00]])"
      ]
     },
     "execution_count": 142,
     "metadata": {},
     "output_type": "execute_result"
    }
   ],
   "source": [
    "# 2. Print cluster centers\n",
    "model.cluster_centers_"
   ]
  },
  {
   "cell_type": "code",
   "execution_count": 143,
   "id": "cb674571",
   "metadata": {},
   "outputs": [],
   "source": [
    "# 3. Create column cluster for predicted labels value\n",
    "df[\"cluster\"]=y_predicted"
   ]
  },
  {
   "cell_type": "code",
   "execution_count": 144,
   "id": "042a345e",
   "metadata": {},
   "outputs": [
    {
     "data": {
      "text/html": [
       "<div>\n",
       "<style scoped>\n",
       "    .dataframe tbody tr th:only-of-type {\n",
       "        vertical-align: middle;\n",
       "    }\n",
       "\n",
       "    .dataframe tbody tr th {\n",
       "        vertical-align: top;\n",
       "    }\n",
       "\n",
       "    .dataframe thead th {\n",
       "        text-align: right;\n",
       "    }\n",
       "</style>\n",
       "<table border=\"1\" class=\"dataframe\">\n",
       "  <thead>\n",
       "    <tr style=\"text-align: right;\">\n",
       "      <th></th>\n",
       "      <th>Gender</th>\n",
       "      <th>Chain_smoker</th>\n",
       "      <th>Consumes_other_tobacco_products</th>\n",
       "      <th>HighBP</th>\n",
       "      <th>Obese</th>\n",
       "      <th>Diabetes</th>\n",
       "      <th>Metabolic_syndrome</th>\n",
       "      <th>Use_of_stimulant_drugs</th>\n",
       "      <th>Family_history</th>\n",
       "      <th>History_of_preeclampsia</th>\n",
       "      <th>CABG_history</th>\n",
       "      <th>Respiratory_illness</th>\n",
       "      <th>label</th>\n",
       "      <th>cluster</th>\n",
       "    </tr>\n",
       "  </thead>\n",
       "  <tbody>\n",
       "    <tr>\n",
       "      <th>0</th>\n",
       "      <td>1</td>\n",
       "      <td>1</td>\n",
       "      <td>1</td>\n",
       "      <td>0</td>\n",
       "      <td>1</td>\n",
       "      <td>0</td>\n",
       "      <td>0</td>\n",
       "      <td>0</td>\n",
       "      <td>1</td>\n",
       "      <td>0</td>\n",
       "      <td>0</td>\n",
       "      <td>0</td>\n",
       "      <td>2</td>\n",
       "      <td>7</td>\n",
       "    </tr>\n",
       "    <tr>\n",
       "      <th>1</th>\n",
       "      <td>1</td>\n",
       "      <td>0</td>\n",
       "      <td>1</td>\n",
       "      <td>0</td>\n",
       "      <td>1</td>\n",
       "      <td>0</td>\n",
       "      <td>0</td>\n",
       "      <td>0</td>\n",
       "      <td>1</td>\n",
       "      <td>0</td>\n",
       "      <td>0</td>\n",
       "      <td>0</td>\n",
       "      <td>1</td>\n",
       "      <td>0</td>\n",
       "    </tr>\n",
       "    <tr>\n",
       "      <th>2</th>\n",
       "      <td>1</td>\n",
       "      <td>0</td>\n",
       "      <td>1</td>\n",
       "      <td>0</td>\n",
       "      <td>1</td>\n",
       "      <td>0</td>\n",
       "      <td>0</td>\n",
       "      <td>0</td>\n",
       "      <td>1</td>\n",
       "      <td>0</td>\n",
       "      <td>0</td>\n",
       "      <td>0</td>\n",
       "      <td>1</td>\n",
       "      <td>0</td>\n",
       "    </tr>\n",
       "    <tr>\n",
       "      <th>3</th>\n",
       "      <td>1</td>\n",
       "      <td>0</td>\n",
       "      <td>1</td>\n",
       "      <td>0</td>\n",
       "      <td>1</td>\n",
       "      <td>0</td>\n",
       "      <td>0</td>\n",
       "      <td>0</td>\n",
       "      <td>1</td>\n",
       "      <td>0</td>\n",
       "      <td>0</td>\n",
       "      <td>0</td>\n",
       "      <td>1</td>\n",
       "      <td>0</td>\n",
       "    </tr>\n",
       "    <tr>\n",
       "      <th>4</th>\n",
       "      <td>1</td>\n",
       "      <td>0</td>\n",
       "      <td>0</td>\n",
       "      <td>0</td>\n",
       "      <td>0</td>\n",
       "      <td>0</td>\n",
       "      <td>1</td>\n",
       "      <td>1</td>\n",
       "      <td>0</td>\n",
       "      <td>0</td>\n",
       "      <td>0</td>\n",
       "      <td>0</td>\n",
       "      <td>6</td>\n",
       "      <td>3</td>\n",
       "    </tr>\n",
       "  </tbody>\n",
       "</table>\n",
       "</div>"
      ],
      "text/plain": [
       "   Gender  Chain_smoker  Consumes_other_tobacco_products  HighBP  Obese  \\\n",
       "0       1             1                                1       0      1   \n",
       "1       1             0                                1       0      1   \n",
       "2       1             0                                1       0      1   \n",
       "3       1             0                                1       0      1   \n",
       "4       1             0                                0       0      0   \n",
       "\n",
       "   Diabetes  Metabolic_syndrome  Use_of_stimulant_drugs  Family_history  \\\n",
       "0         0                   0                       0               1   \n",
       "1         0                   0                       0               1   \n",
       "2         0                   0                       0               1   \n",
       "3         0                   0                       0               1   \n",
       "4         0                   1                       1               0   \n",
       "\n",
       "   History_of_preeclampsia  CABG_history  Respiratory_illness  label  cluster  \n",
       "0                        0             0                    0      2        7  \n",
       "1                        0             0                    0      1        0  \n",
       "2                        0             0                    0      1        0  \n",
       "3                        0             0                    0      1        0  \n",
       "4                        0             0                    0      6        3  "
      ]
     },
     "execution_count": 144,
     "metadata": {},
     "output_type": "execute_result"
    }
   ],
   "source": [
    "df.head()"
   ]
  },
  {
   "cell_type": "code",
   "execution_count": null,
   "id": "6be0a53b",
   "metadata": {},
   "outputs": [],
   "source": []
  },
  {
   "cell_type": "code",
   "execution_count": 87,
   "id": "97d0d5b6",
   "metadata": {},
   "outputs": [],
   "source": [
    "df1=df[df.cluster==0]\n",
    "df2=df[df.cluster==1]\n",
    "df3=df[df.cluster==2]\n",
    "df4=df[df.cluster==3]\n",
    "df5=df[df.cluster==4]\n",
    "df6=df[df.cluster==5]\n",
    "df7=df[df.cluster==6]\n",
    "df8=df[df.cluster==7]\n",
    "df9=df[df.cluster==8]\n",
    "df10=df[df.cluster==9]"
   ]
  },
  {
   "cell_type": "code",
   "execution_count": 17,
   "id": "964cb185",
   "metadata": {},
   "outputs": [
    {
     "data": {
      "text/plain": [
       "(601, 13)"
      ]
     },
     "execution_count": 17,
     "metadata": {},
     "output_type": "execute_result"
    }
   ],
   "source": [
    "df1.shape"
   ]
  },
  {
   "cell_type": "code",
   "execution_count": 18,
   "id": "b23cedcb",
   "metadata": {},
   "outputs": [
    {
     "data": {
      "text/plain": [
       "(251, 13)"
      ]
     },
     "execution_count": 18,
     "metadata": {},
     "output_type": "execute_result"
    }
   ],
   "source": [
    "df2.shape"
   ]
  },
  {
   "cell_type": "code",
   "execution_count": 19,
   "id": "11a906fb",
   "metadata": {},
   "outputs": [
    {
     "data": {
      "text/html": [
       "<div>\n",
       "<style scoped>\n",
       "    .dataframe tbody tr th:only-of-type {\n",
       "        vertical-align: middle;\n",
       "    }\n",
       "\n",
       "    .dataframe tbody tr th {\n",
       "        vertical-align: top;\n",
       "    }\n",
       "\n",
       "    .dataframe thead th {\n",
       "        text-align: right;\n",
       "    }\n",
       "</style>\n",
       "<table border=\"1\" class=\"dataframe\">\n",
       "  <thead>\n",
       "    <tr style=\"text-align: right;\">\n",
       "      <th></th>\n",
       "      <th>Gender</th>\n",
       "      <th>Chain_smoker</th>\n",
       "      <th>Consumes_other_tobacco_products</th>\n",
       "      <th>HighBP</th>\n",
       "      <th>Obese</th>\n",
       "      <th>Diabetes</th>\n",
       "      <th>Metabolic_syndrome</th>\n",
       "      <th>Use_of_stimulant_drugs</th>\n",
       "      <th>Family_history</th>\n",
       "      <th>History_of_preeclampsia</th>\n",
       "      <th>CABG_history</th>\n",
       "      <th>Respiratory_illness</th>\n",
       "      <th>cluster</th>\n",
       "    </tr>\n",
       "  </thead>\n",
       "  <tbody>\n",
       "    <tr>\n",
       "      <th>5</th>\n",
       "      <td>2</td>\n",
       "      <td>0</td>\n",
       "      <td>1</td>\n",
       "      <td>0</td>\n",
       "      <td>1</td>\n",
       "      <td>0</td>\n",
       "      <td>0</td>\n",
       "      <td>0</td>\n",
       "      <td>1</td>\n",
       "      <td>0</td>\n",
       "      <td>0</td>\n",
       "      <td>0</td>\n",
       "      <td>1</td>\n",
       "    </tr>\n",
       "    <tr>\n",
       "      <th>7</th>\n",
       "      <td>2</td>\n",
       "      <td>0</td>\n",
       "      <td>1</td>\n",
       "      <td>0</td>\n",
       "      <td>1</td>\n",
       "      <td>0</td>\n",
       "      <td>0</td>\n",
       "      <td>0</td>\n",
       "      <td>1</td>\n",
       "      <td>0</td>\n",
       "      <td>0</td>\n",
       "      <td>0</td>\n",
       "      <td>1</td>\n",
       "    </tr>\n",
       "    <tr>\n",
       "      <th>11</th>\n",
       "      <td>2</td>\n",
       "      <td>0</td>\n",
       "      <td>1</td>\n",
       "      <td>0</td>\n",
       "      <td>1</td>\n",
       "      <td>0</td>\n",
       "      <td>0</td>\n",
       "      <td>0</td>\n",
       "      <td>1</td>\n",
       "      <td>0</td>\n",
       "      <td>1</td>\n",
       "      <td>0</td>\n",
       "      <td>1</td>\n",
       "    </tr>\n",
       "    <tr>\n",
       "      <th>16</th>\n",
       "      <td>2</td>\n",
       "      <td>0</td>\n",
       "      <td>1</td>\n",
       "      <td>0</td>\n",
       "      <td>1</td>\n",
       "      <td>0</td>\n",
       "      <td>0</td>\n",
       "      <td>0</td>\n",
       "      <td>1</td>\n",
       "      <td>0</td>\n",
       "      <td>0</td>\n",
       "      <td>0</td>\n",
       "      <td>1</td>\n",
       "    </tr>\n",
       "    <tr>\n",
       "      <th>23</th>\n",
       "      <td>2</td>\n",
       "      <td>0</td>\n",
       "      <td>1</td>\n",
       "      <td>0</td>\n",
       "      <td>1</td>\n",
       "      <td>0</td>\n",
       "      <td>0</td>\n",
       "      <td>0</td>\n",
       "      <td>1</td>\n",
       "      <td>0</td>\n",
       "      <td>0</td>\n",
       "      <td>0</td>\n",
       "      <td>1</td>\n",
       "    </tr>\n",
       "    <tr>\n",
       "      <th>...</th>\n",
       "      <td>...</td>\n",
       "      <td>...</td>\n",
       "      <td>...</td>\n",
       "      <td>...</td>\n",
       "      <td>...</td>\n",
       "      <td>...</td>\n",
       "      <td>...</td>\n",
       "      <td>...</td>\n",
       "      <td>...</td>\n",
       "      <td>...</td>\n",
       "      <td>...</td>\n",
       "      <td>...</td>\n",
       "      <td>...</td>\n",
       "    </tr>\n",
       "    <tr>\n",
       "      <th>877</th>\n",
       "      <td>2</td>\n",
       "      <td>0</td>\n",
       "      <td>0</td>\n",
       "      <td>0</td>\n",
       "      <td>1</td>\n",
       "      <td>0</td>\n",
       "      <td>0</td>\n",
       "      <td>0</td>\n",
       "      <td>0</td>\n",
       "      <td>0</td>\n",
       "      <td>0</td>\n",
       "      <td>0</td>\n",
       "      <td>1</td>\n",
       "    </tr>\n",
       "    <tr>\n",
       "      <th>879</th>\n",
       "      <td>2</td>\n",
       "      <td>1</td>\n",
       "      <td>0</td>\n",
       "      <td>0</td>\n",
       "      <td>1</td>\n",
       "      <td>0</td>\n",
       "      <td>0</td>\n",
       "      <td>0</td>\n",
       "      <td>0</td>\n",
       "      <td>0</td>\n",
       "      <td>0</td>\n",
       "      <td>0</td>\n",
       "      <td>1</td>\n",
       "    </tr>\n",
       "    <tr>\n",
       "      <th>883</th>\n",
       "      <td>2</td>\n",
       "      <td>0</td>\n",
       "      <td>1</td>\n",
       "      <td>0</td>\n",
       "      <td>1</td>\n",
       "      <td>0</td>\n",
       "      <td>0</td>\n",
       "      <td>0</td>\n",
       "      <td>1</td>\n",
       "      <td>0</td>\n",
       "      <td>0</td>\n",
       "      <td>0</td>\n",
       "      <td>1</td>\n",
       "    </tr>\n",
       "    <tr>\n",
       "      <th>884</th>\n",
       "      <td>2</td>\n",
       "      <td>0</td>\n",
       "      <td>1</td>\n",
       "      <td>0</td>\n",
       "      <td>1</td>\n",
       "      <td>0</td>\n",
       "      <td>0</td>\n",
       "      <td>0</td>\n",
       "      <td>1</td>\n",
       "      <td>0</td>\n",
       "      <td>0</td>\n",
       "      <td>0</td>\n",
       "      <td>1</td>\n",
       "    </tr>\n",
       "    <tr>\n",
       "      <th>887</th>\n",
       "      <td>2</td>\n",
       "      <td>0</td>\n",
       "      <td>1</td>\n",
       "      <td>0</td>\n",
       "      <td>0</td>\n",
       "      <td>0</td>\n",
       "      <td>0</td>\n",
       "      <td>1</td>\n",
       "      <td>1</td>\n",
       "      <td>0</td>\n",
       "      <td>0</td>\n",
       "      <td>0</td>\n",
       "      <td>1</td>\n",
       "    </tr>\n",
       "  </tbody>\n",
       "</table>\n",
       "<p>251 rows × 13 columns</p>\n",
       "</div>"
      ],
      "text/plain": [
       "     Gender  Chain_smoker  Consumes_other_tobacco_products  HighBP  Obese  \\\n",
       "5         2             0                                1       0      1   \n",
       "7         2             0                                1       0      1   \n",
       "11        2             0                                1       0      1   \n",
       "16        2             0                                1       0      1   \n",
       "23        2             0                                1       0      1   \n",
       "..      ...           ...                              ...     ...    ...   \n",
       "877       2             0                                0       0      1   \n",
       "879       2             1                                0       0      1   \n",
       "883       2             0                                1       0      1   \n",
       "884       2             0                                1       0      1   \n",
       "887       2             0                                1       0      0   \n",
       "\n",
       "     Diabetes  Metabolic_syndrome  Use_of_stimulant_drugs  Family_history  \\\n",
       "5           0                   0                       0               1   \n",
       "7           0                   0                       0               1   \n",
       "11          0                   0                       0               1   \n",
       "16          0                   0                       0               1   \n",
       "23          0                   0                       0               1   \n",
       "..        ...                 ...                     ...             ...   \n",
       "877         0                   0                       0               0   \n",
       "879         0                   0                       0               0   \n",
       "883         0                   0                       0               1   \n",
       "884         0                   0                       0               1   \n",
       "887         0                   0                       1               1   \n",
       "\n",
       "     History_of_preeclampsia  CABG_history  Respiratory_illness  cluster  \n",
       "5                          0             0                    0        1  \n",
       "7                          0             0                    0        1  \n",
       "11                         0             1                    0        1  \n",
       "16                         0             0                    0        1  \n",
       "23                         0             0                    0        1  \n",
       "..                       ...           ...                  ...      ...  \n",
       "877                        0             0                    0        1  \n",
       "879                        0             0                    0        1  \n",
       "883                        0             0                    0        1  \n",
       "884                        0             0                    0        1  \n",
       "887                        0             0                    0        1  \n",
       "\n",
       "[251 rows x 13 columns]"
      ]
     },
     "execution_count": 19,
     "metadata": {},
     "output_type": "execute_result"
    }
   ],
   "source": [
    "df2"
   ]
  },
  {
   "cell_type": "code",
   "execution_count": 65,
   "id": "48c8bc5c",
   "metadata": {},
   "outputs": [
    {
     "data": {
      "text/plain": [
       "(123, 13)"
      ]
     },
     "execution_count": 65,
     "metadata": {},
     "output_type": "execute_result"
    }
   ],
   "source": [
    "df3.shape"
   ]
  },
  {
   "cell_type": "code",
   "execution_count": 22,
   "id": "e6ad76a5",
   "metadata": {},
   "outputs": [],
   "source": [
    "# df4.shape"
   ]
  },
  {
   "cell_type": "code",
   "execution_count": 21,
   "id": "a66c683d",
   "metadata": {},
   "outputs": [],
   "source": [
    "# df5.shape"
   ]
  },
  {
   "cell_type": "code",
   "execution_count": 100,
   "id": "bce9fcb1",
   "metadata": {},
   "outputs": [],
   "source": [
    "plt.rcParams['figure.figsize']=(30,8)"
   ]
  },
  {
   "cell_type": "code",
   "execution_count": 145,
   "id": "13c57d6b",
   "metadata": {},
   "outputs": [
    {
     "data": {
      "text/plain": [
       "<matplotlib.legend.Legend at 0x18f776ee370>"
      ]
     },
     "execution_count": 145,
     "metadata": {},
     "output_type": "execute_result"
    },
    {
     "data": {
      "image/png": "[encoded data removed]",
      "text/plain": [
       "<Figure size 2160x576 with 1 Axes>"
      ]
     },
     "metadata": {
      "needs_background": "light"
     },
     "output_type": "display_data"
    }
   ],
   "source": [
    "plt.scatter(df1.Family_history,df1.CABG_history,color='blue')\n",
    "plt.scatter(df2.Family_history,df2.CABG_history,color='green')\n",
    "plt.scatter(df3.Family_history,df3.CABG_history,color='red')\n",
    "plt.scatter(model.cluster_centers_[:,0],model.cluster_centers_[:,1],color='black',marker='*',label='centroid')\n",
    "plt.legend()"
   ]
  },
  {
   "cell_type": "code",
   "execution_count": 147,
   "id": "6218ceaa",
   "metadata": {},
   "outputs": [],
   "source": [
    "# 8. Show a silhouette score\n",
    "from sklearn.metrics import silhouette_score"
   ]
  },
  {
   "cell_type": "code",
   "execution_count": 146,
   "id": "4b2ad592",
   "metadata": {},
   "outputs": [
    {
     "data": {
      "text/plain": [
       "0.8734100819459032"
      ]
     },
     "execution_count": 146,
     "metadata": {},
     "output_type": "execute_result"
    }
   ],
   "source": [
    "silhouette_score(df,y_predicted)"
   ]
  },
  {
   "cell_type": "code",
   "execution_count": null,
   "id": "f680d31d",
   "metadata": {},
   "outputs": [],
   "source": []
  },
  {
   "cell_type": "code",
   "execution_count": 129,
   "id": "056cc4e3",
   "metadata": {},
   "outputs": [
    {
     "data": {
      "image/png": "[encoded data removed]",
      "text/plain": [
       "<Figure size 2160x576 with 1 Axes>"
      ]
     },
     "metadata": {
      "needs_background": "light"
     },
     "output_type": "display_data"
    }
   ],
   "source": [
    "# 4. Plot the hierarchical clustering using scipy\n",
    "from scipy.cluster.hierarchy import linkage,dendrogram\n",
    "merg = linkage(df, method = \"ward\")\n",
    "dendrogram(merg, leaf_rotation = 90)\n",
    "plt.xlabel(\"data points\")\n",
    "plt.ylabel(\"euclidean distance\")\n",
    "plt.show()"
   ]
  },
  {
   "cell_type": "code",
   "execution_count": 130,
   "id": "54640e02",
   "metadata": {},
   "outputs": [],
   "source": [
    "# 5. Apply Agglomerative Clustering using number of clusters\n",
    "from sklearn.cluster import AgglomerativeClustering"
   ]
  },
  {
   "cell_type": "code",
   "execution_count": 131,
   "id": "e1a25ed0",
   "metadata": {},
   "outputs": [],
   "source": [
    "hc = AgglomerativeClustering(n_clusters = 10, affinity = \"euclidean\", linkage = \"ward\")"
   ]
  },
  {
   "cell_type": "code",
   "execution_count": 132,
   "id": "224928b0",
   "metadata": {},
   "outputs": [
    {
     "data": {
      "text/plain": [
       "array([2, 1, 1, 1, 6, 5, 4, 5, 1, 4, 7, 1, 0, 1, 1, 1, 5, 3, 0, 1, 1, 1,\n",
       "       8, 5, 1, 0, 8, 4, 1, 8, 5, 8, 5, 3, 5, 1, 3, 5, 1, 1, 1, 5, 0, 5,\n",
       "       8, 5, 5, 1, 7, 6, 0, 0, 1, 5, 1, 1, 3, 3, 5, 1, 5, 8, 1, 1, 1, 1,\n",
       "       1, 8, 1, 2, 5, 1, 8, 1, 1, 8, 2, 1, 1, 2, 2, 9, 5, 4, 1, 5, 1, 2,\n",
       "       0, 1, 0, 7, 0, 1, 1, 1, 0, 1, 8, 7, 1, 1, 0, 1, 1, 8, 1, 5, 5, 8,\n",
       "       2, 1, 8, 1, 3, 5, 5, 1, 5, 4, 6, 0, 1, 5, 4, 1, 9, 0, 0, 5, 0, 1,\n",
       "       0, 1, 1, 0, 5, 5, 8, 8, 0, 1, 1, 5, 5, 7, 1, 2, 6, 1, 2, 1, 3, 5,\n",
       "       1, 8, 8, 1, 1, 1, 1, 2, 4, 0, 1, 5, 5, 5, 4, 8, 1, 9, 1, 3, 1, 3,\n",
       "       1, 2, 1, 5, 5, 1, 1, 1, 5, 5, 1, 1, 2, 5, 1, 1, 0, 5, 1, 1, 0, 0,\n",
       "       8, 1, 5, 5, 2, 5, 5, 8, 0, 1, 5, 1, 3, 5, 1, 1, 0, 1, 5, 3, 1, 7,\n",
       "       0, 1, 1, 6, 1, 1, 1, 9, 0, 0, 1, 1, 8, 8, 1, 7, 6, 0, 5, 1, 1, 5,\n",
       "       5, 1, 1, 1, 1, 1, 7, 5, 1, 4, 1, 1, 0, 1, 5, 2, 1, 0, 1, 3, 1, 1,\n",
       "       1, 2, 5, 8, 0, 5, 0, 1, 5, 1, 1, 5, 1, 5, 1, 5, 1, 7, 2, 1, 4, 1,\n",
       "       1, 9, 9, 5, 5, 1, 1, 1, 3, 5, 3, 0, 5, 8, 8, 0, 5, 1, 1, 1, 1, 1,\n",
       "       1, 4, 7, 5, 4, 1, 5, 4, 5, 3, 1, 1, 1, 0, 4, 1, 1, 6, 4, 5, 5, 1,\n",
       "       3, 1, 6, 3, 1, 5, 1, 6, 9, 0, 6, 5, 5, 8, 1, 4, 4, 5, 5, 5, 5, 4,\n",
       "       1, 1, 1, 1, 2, 2, 5, 1, 5, 3, 1, 1, 1, 3, 1, 1, 4, 7, 2, 2, 5, 1,\n",
       "       5, 0, 9, 6, 0, 5, 5, 1, 5, 1, 2, 1, 5, 1, 1, 5, 5, 5, 9, 1, 1, 4,\n",
       "       1, 1, 0, 2, 1, 6, 1, 0, 2, 1, 1, 1, 1, 5, 1, 5, 2, 0, 0, 5, 1, 0,\n",
       "       5, 6, 5, 0, 1, 5, 6, 5, 8, 3, 1, 1, 8, 6, 1, 1, 5, 1, 5, 1, 2, 1,\n",
       "       1, 5, 0, 8, 1, 1, 4, 5, 2, 0, 1, 4, 3, 1, 1, 1, 5, 3, 1, 1, 1, 7,\n",
       "       1, 1, 4, 8, 6, 4, 1, 5, 0, 3, 6, 1, 0, 1, 6, 0, 6, 1, 2, 5, 1, 5,\n",
       "       5, 1, 1, 1, 1, 5, 1, 1, 5, 3, 5, 2, 1, 1, 3, 3, 5, 1, 1, 1, 1, 5,\n",
       "       1, 1, 1, 5, 1, 1, 6, 1, 3, 0, 6, 1, 6, 0, 5, 5, 1, 4, 4, 5, 4, 1,\n",
       "       5, 0, 0, 7, 5, 1, 5, 5, 1, 2, 5, 1, 1, 5, 5, 2, 3, 0, 1, 0, 1, 2,\n",
       "       0, 8, 3, 6, 1, 5, 6, 1, 1, 1, 8, 1, 0, 2, 5, 5, 2, 1, 0, 1, 8, 8,\n",
       "       1, 1, 0, 3, 2, 5, 1, 1, 0, 9, 0, 2, 2, 5, 8, 1, 2, 2, 5, 1, 9, 1,\n",
       "       8, 6, 1, 5, 7, 9, 4, 4, 5, 8, 0, 7, 0, 1, 9, 2, 2, 5, 1, 8, 3, 0,\n",
       "       1, 1, 1, 5, 5, 5, 1, 8, 8, 3, 1, 5, 5, 3, 1, 8, 8, 7, 5, 1, 8, 3,\n",
       "       1, 6, 1, 5, 5, 5, 1, 1, 3, 9, 1, 5, 1, 5, 1, 5, 1, 1, 0, 1, 1, 1,\n",
       "       1, 8, 1, 2, 1, 1, 9, 8, 5, 7, 1, 0, 5, 5, 8, 6, 5, 5, 8, 3, 5, 5,\n",
       "       0, 3, 1, 5, 5, 5, 1, 1, 0, 7, 2, 2, 1, 0, 4, 6, 1, 0, 1, 6, 5, 0,\n",
       "       8, 5, 5, 4, 4, 5, 1, 8, 5, 1, 5, 1, 2, 1, 5, 1, 7, 9, 2, 5, 5, 5,\n",
       "       4, 7, 1, 7, 1, 0, 7, 7, 1, 1, 7, 1, 5, 0, 1, 2, 1, 8, 8, 2, 5, 8,\n",
       "       1, 0, 2, 8, 1, 1, 5, 0, 9, 0, 2, 1, 6, 6, 9, 6, 1, 5, 1, 8, 1, 0,\n",
       "       1, 1, 3, 0, 5, 5, 1, 7, 1, 5, 6, 9, 7, 5, 1, 5, 1, 3, 1, 1, 2, 8,\n",
       "       1, 6, 0, 5, 1, 0, 1, 1, 2, 5, 1, 3, 8, 2, 6, 5, 1, 8, 1, 5, 5, 1,\n",
       "       8, 5, 5, 1, 5, 1, 4, 1, 5, 2, 0, 1, 1, 5, 5, 5, 5, 0, 1, 9, 1, 0,\n",
       "       1, 1, 8, 6, 1, 0, 1, 1, 1, 1, 5, 5, 1, 3, 1, 2, 0, 0, 5, 7, 2, 5,\n",
       "       8, 5, 5, 1, 2, 8, 0, 6, 1, 1, 5, 1, 1, 2, 5, 0, 0, 2, 5, 0, 1, 0,\n",
       "       1, 2, 8, 5, 5, 1, 8, 4, 2], dtype=int64)"
      ]
     },
     "execution_count": 132,
     "metadata": {},
     "output_type": "execute_result"
    }
   ],
   "source": [
    "cluster = hc.fit_predict(df)\n",
    "cluster"
   ]
  },
  {
   "cell_type": "code",
   "execution_count": 133,
   "id": "17dfd114",
   "metadata": {},
   "outputs": [],
   "source": [
    "# 6. Create label column for predicted cluster label\n",
    "df['label']=cluster"
   ]
  },
  {
   "cell_type": "code",
   "execution_count": 134,
   "id": "ed645fba",
   "metadata": {},
   "outputs": [
    {
     "data": {
      "text/html": [
       "<div>\n",
       "<style scoped>\n",
       "    .dataframe tbody tr th:only-of-type {\n",
       "        vertical-align: middle;\n",
       "    }\n",
       "\n",
       "    .dataframe tbody tr th {\n",
       "        vertical-align: top;\n",
       "    }\n",
       "\n",
       "    .dataframe thead th {\n",
       "        text-align: right;\n",
       "    }\n",
       "</style>\n",
       "<table border=\"1\" class=\"dataframe\">\n",
       "  <thead>\n",
       "    <tr style=\"text-align: right;\">\n",
       "      <th></th>\n",
       "      <th>Gender</th>\n",
       "      <th>Chain_smoker</th>\n",
       "      <th>Consumes_other_tobacco_products</th>\n",
       "      <th>HighBP</th>\n",
       "      <th>Obese</th>\n",
       "      <th>Diabetes</th>\n",
       "      <th>Metabolic_syndrome</th>\n",
       "      <th>Use_of_stimulant_drugs</th>\n",
       "      <th>Family_history</th>\n",
       "      <th>History_of_preeclampsia</th>\n",
       "      <th>CABG_history</th>\n",
       "      <th>Respiratory_illness</th>\n",
       "      <th>label</th>\n",
       "    </tr>\n",
       "  </thead>\n",
       "  <tbody>\n",
       "    <tr>\n",
       "      <th>0</th>\n",
       "      <td>1</td>\n",
       "      <td>1</td>\n",
       "      <td>1</td>\n",
       "      <td>0</td>\n",
       "      <td>1</td>\n",
       "      <td>0</td>\n",
       "      <td>0</td>\n",
       "      <td>0</td>\n",
       "      <td>1</td>\n",
       "      <td>0</td>\n",
       "      <td>0</td>\n",
       "      <td>0</td>\n",
       "      <td>2</td>\n",
       "    </tr>\n",
       "    <tr>\n",
       "      <th>1</th>\n",
       "      <td>1</td>\n",
       "      <td>0</td>\n",
       "      <td>1</td>\n",
       "      <td>0</td>\n",
       "      <td>1</td>\n",
       "      <td>0</td>\n",
       "      <td>0</td>\n",
       "      <td>0</td>\n",
       "      <td>1</td>\n",
       "      <td>0</td>\n",
       "      <td>0</td>\n",
       "      <td>0</td>\n",
       "      <td>1</td>\n",
       "    </tr>\n",
       "    <tr>\n",
       "      <th>2</th>\n",
       "      <td>1</td>\n",
       "      <td>0</td>\n",
       "      <td>1</td>\n",
       "      <td>0</td>\n",
       "      <td>1</td>\n",
       "      <td>0</td>\n",
       "      <td>0</td>\n",
       "      <td>0</td>\n",
       "      <td>1</td>\n",
       "      <td>0</td>\n",
       "      <td>0</td>\n",
       "      <td>0</td>\n",
       "      <td>1</td>\n",
       "    </tr>\n",
       "    <tr>\n",
       "      <th>3</th>\n",
       "      <td>1</td>\n",
       "      <td>0</td>\n",
       "      <td>1</td>\n",
       "      <td>0</td>\n",
       "      <td>1</td>\n",
       "      <td>0</td>\n",
       "      <td>0</td>\n",
       "      <td>0</td>\n",
       "      <td>1</td>\n",
       "      <td>0</td>\n",
       "      <td>0</td>\n",
       "      <td>0</td>\n",
       "      <td>1</td>\n",
       "    </tr>\n",
       "    <tr>\n",
       "      <th>4</th>\n",
       "      <td>1</td>\n",
       "      <td>0</td>\n",
       "      <td>0</td>\n",
       "      <td>0</td>\n",
       "      <td>0</td>\n",
       "      <td>0</td>\n",
       "      <td>1</td>\n",
       "      <td>1</td>\n",
       "      <td>0</td>\n",
       "      <td>0</td>\n",
       "      <td>0</td>\n",
       "      <td>0</td>\n",
       "      <td>6</td>\n",
       "    </tr>\n",
       "  </tbody>\n",
       "</table>\n",
       "</div>"
      ],
      "text/plain": [
       "   Gender  Chain_smoker  Consumes_other_tobacco_products  HighBP  Obese  \\\n",
       "0       1             1                                1       0      1   \n",
       "1       1             0                                1       0      1   \n",
       "2       1             0                                1       0      1   \n",
       "3       1             0                                1       0      1   \n",
       "4       1             0                                0       0      0   \n",
       "\n",
       "   Diabetes  Metabolic_syndrome  Use_of_stimulant_drugs  Family_history  \\\n",
       "0         0                   0                       0               1   \n",
       "1         0                   0                       0               1   \n",
       "2         0                   0                       0               1   \n",
       "3         0                   0                       0               1   \n",
       "4         0                   1                       1               0   \n",
       "\n",
       "   History_of_preeclampsia  CABG_history  Respiratory_illness  label  \n",
       "0                        0             0                    0      2  \n",
       "1                        0             0                    0      1  \n",
       "2                        0             0                    0      1  \n",
       "3                        0             0                    0      1  \n",
       "4                        0             0                    0      6  "
      ]
     },
     "execution_count": 134,
     "metadata": {},
     "output_type": "execute_result"
    }
   ],
   "source": [
    "df.head()"
   ]
  },
  {
   "cell_type": "code",
   "execution_count": 135,
   "id": "e977dbe6",
   "metadata": {},
   "outputs": [
    {
     "data": {
      "text/plain": [
       "1    324\n",
       "5    191\n",
       "0     91\n",
       "8     63\n",
       "2     60\n",
       "3     41\n",
       "6     37\n",
       "4     35\n",
       "7     27\n",
       "9     20\n",
       "Name: label, dtype: int64"
      ]
     },
     "execution_count": 135,
     "metadata": {},
     "output_type": "execute_result"
    }
   ],
   "source": [
    "# 7. Show label counts.\n",
    "df['label'].value_counts()"
   ]
  },
  {
   "cell_type": "code",
   "execution_count": 136,
   "id": "6078f45f",
   "metadata": {},
   "outputs": [],
   "source": []
  },
  {
   "cell_type": "code",
   "execution_count": null,
   "id": "6915090a",
   "metadata": {},
   "outputs": [],
   "source": []
  },
  {
   "cell_type": "markdown",
   "id": "77569c8f",
   "metadata": {},
   "source": [
    "# For Hierarchical"
   ]
  },
  {
   "cell_type": "code",
   "execution_count": 137,
   "id": "d609240c",
   "metadata": {},
   "outputs": [
    {
     "data": {
      "text/plain": [
       "0.7815451312127419"
      ]
     },
     "execution_count": 137,
     "metadata": {},
     "output_type": "execute_result"
    }
   ],
   "source": [
    "silhouette_score(df,cluster)"
   ]
  },
  {
   "cell_type": "code",
   "execution_count": null,
   "id": "57b35e3c",
   "metadata": {},
   "outputs": [],
   "source": []
  },
  {
   "cell_type": "code",
   "execution_count": null,
   "id": "69ab4989",
   "metadata": {},
   "outputs": [],
   "source": []
  },
  {
   "cell_type": "code",
   "execution_count": null,
   "id": "5f8db8e3",
   "metadata": {},
   "outputs": [],
   "source": []
  },
  {
   "cell_type": "code",
   "execution_count": null,
   "id": "52374340",
   "metadata": {},
   "outputs": [],
   "source": []
  },
  {
   "cell_type": "code",
   "execution_count": null,
   "id": "a19fc956",
   "metadata": {},
   "outputs": [],
   "source": []
  },
  {
   "cell_type": "code",
   "execution_count": null,
   "id": "b6ca53cb",
   "metadata": {},
   "outputs": [],
   "source": []
  },
  {
   "cell_type": "code",
   "execution_count": null,
   "id": "8a8d04e9",
   "metadata": {},
   "outputs": [],
   "source": []
  },
  {
   "cell_type": "code",
   "execution_count": null,
   "id": "4b0deba8",
   "metadata": {},
   "outputs": [],
   "source": []
  },
  {
   "cell_type": "code",
   "execution_count": null,
   "id": "0e795e0e",
   "metadata": {},
   "outputs": [],
   "source": []
  },
  {
   "cell_type": "code",
   "execution_count": null,
   "id": "6d2faf1f",
   "metadata": {},
   "outputs": [],
   "source": []
  },
  {
   "cell_type": "code",
   "execution_count": null,
   "id": "7a24aef1",
   "metadata": {},
   "outputs": [],
   "source": []
  }
 ],
 "metadata": {
  "kernelspec": {
   "display_name": "Python 3 (ipykernel)",
   "language": "python",
   "name": "python3"
  },
  "language_info": {
   "codemirror_mode": {
    "name": "ipython",
    "version": 3
   },
   "file_extension": ".py",
   "mimetype": "text/x-python",
   "name": "python",
   "nbconvert_exporter": "python",
   "pygments_lexer": "ipython3",
   "version": "3.9.7"
  }
 },
 "nbformat": 4,
 "nbformat_minor": 5
}
