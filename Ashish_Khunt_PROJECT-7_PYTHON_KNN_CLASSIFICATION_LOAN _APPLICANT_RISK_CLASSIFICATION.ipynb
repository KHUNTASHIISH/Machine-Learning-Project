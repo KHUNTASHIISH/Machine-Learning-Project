{
 "cells": [
  {
   "cell_type": "code",
   "execution_count": 41,
   "id": "064b192e",
   "metadata": {},
   "outputs": [],
   "source": [
    "import pandas as pd\n",
    "import numpy as np\n",
    "import matplotlib.pyplot as plt\n",
    "from sklearn.metrics import accuracy_score\n",
    "from sklearn.neighbors import KNeighborsClassifier\n",
    "from sklearn.model_selection import train_test_split\n",
    "import seaborn as sns"
   ]
  },
  {
   "cell_type": "code",
   "execution_count": 3,
   "id": "8d75695c",
   "metadata": {},
   "outputs": [
    {
     "name": "stdout",
     "output_type": "stream",
     "text": [
      "D:\\FINGERTIPS DATA SCIENCE\\READING MATERIALS\\PROJECTS\\PYTHON_ML\\PROJECT-7 Python KNN Classification Loan Applicant Risk Classification\n"
     ]
    }
   ],
   "source": [
    "cd D:\\FINGERTIPS DATA SCIENCE\\READING MATERIALS\\PROJECTS\\PYTHON_ML\\PROJECT-7 Python KNN Classification Loan Applicant Risk Classification"
   ]
  },
  {
   "cell_type": "markdown",
   "id": "1641375e",
   "metadata": {},
   "source": [
    "# Part-1: Data Exploration and Pre-processing"
   ]
  },
  {
   "cell_type": "code",
   "execution_count": 4,
   "id": "e9e22706",
   "metadata": {},
   "outputs": [],
   "source": [
    "# 1) load the given dataset\n",
    "df=pd.read_excel(\"Python_Project_7_KNN.xlsx\")"
   ]
  },
  {
   "cell_type": "code",
   "execution_count": 5,
   "id": "285b1b8c",
   "metadata": {},
   "outputs": [
    {
     "data": {
      "text/html": [
       "<div>\n",
       "<style scoped>\n",
       "    .dataframe tbody tr th:only-of-type {\n",
       "        vertical-align: middle;\n",
       "    }\n",
       "\n",
       "    .dataframe tbody tr th {\n",
       "        vertical-align: top;\n",
       "    }\n",
       "\n",
       "    .dataframe thead th {\n",
       "        text-align: right;\n",
       "    }\n",
       "</style>\n",
       "<table border=\"1\" class=\"dataframe\">\n",
       "  <thead>\n",
       "    <tr style=\"text-align: right;\">\n",
       "      <th></th>\n",
       "      <th>Age</th>\n",
       "      <th>Total Work Experience</th>\n",
       "      <th>Number of years in city</th>\n",
       "      <th>Cost to Request Ratio</th>\n",
       "      <th>Cibil score</th>\n",
       "      <th>Overdrafts past12months</th>\n",
       "      <th>Total bounces past12months</th>\n",
       "    </tr>\n",
       "  </thead>\n",
       "  <tbody>\n",
       "    <tr>\n",
       "      <th>0</th>\n",
       "      <td>40.50</td>\n",
       "      <td>2</td>\n",
       "      <td>6</td>\n",
       "      <td>0.842666</td>\n",
       "      <td>594</td>\n",
       "      <td>0</td>\n",
       "      <td>0</td>\n",
       "    </tr>\n",
       "    <tr>\n",
       "      <th>1</th>\n",
       "      <td>41.25</td>\n",
       "      <td>5</td>\n",
       "      <td>2</td>\n",
       "      <td>0.791667</td>\n",
       "      <td>754</td>\n",
       "      <td>0</td>\n",
       "      <td>0</td>\n",
       "    </tr>\n",
       "    <tr>\n",
       "      <th>2</th>\n",
       "      <td>39.50</td>\n",
       "      <td>5</td>\n",
       "      <td>2</td>\n",
       "      <td>0.727273</td>\n",
       "      <td>779</td>\n",
       "      <td>0</td>\n",
       "      <td>0</td>\n",
       "    </tr>\n",
       "    <tr>\n",
       "      <th>3</th>\n",
       "      <td>35.00</td>\n",
       "      <td>1</td>\n",
       "      <td>4</td>\n",
       "      <td>0.820232</td>\n",
       "      <td>818</td>\n",
       "      <td>0</td>\n",
       "      <td>0</td>\n",
       "    </tr>\n",
       "    <tr>\n",
       "      <th>4</th>\n",
       "      <td>34.00</td>\n",
       "      <td>3</td>\n",
       "      <td>3</td>\n",
       "      <td>0.455581</td>\n",
       "      <td>853</td>\n",
       "      <td>0</td>\n",
       "      <td>1</td>\n",
       "    </tr>\n",
       "  </tbody>\n",
       "</table>\n",
       "</div>"
      ],
      "text/plain": [
       "     Age  Total Work Experience  Number of years in city  \\\n",
       "0  40.50                      2                        6   \n",
       "1  41.25                      5                        2   \n",
       "2  39.50                      5                        2   \n",
       "3  35.00                      1                        4   \n",
       "4  34.00                      3                        3   \n",
       "\n",
       "   Cost to Request Ratio  Cibil score  Overdrafts past12months  \\\n",
       "0               0.842666          594                        0   \n",
       "1               0.791667          754                        0   \n",
       "2               0.727273          779                        0   \n",
       "3               0.820232          818                        0   \n",
       "4               0.455581          853                        0   \n",
       "\n",
       "   Total bounces past12months  \n",
       "0                           0  \n",
       "1                           0  \n",
       "2                           0  \n",
       "3                           0  \n",
       "4                           1  "
      ]
     },
     "execution_count": 5,
     "metadata": {},
     "output_type": "execute_result"
    }
   ],
   "source": [
    "df.head()"
   ]
  },
  {
   "cell_type": "code",
   "execution_count": 29,
   "id": "3d0624f1",
   "metadata": {},
   "outputs": [
    {
     "data": {
      "text/plain": [
       "(8995, 7)"
      ]
     },
     "execution_count": 29,
     "metadata": {},
     "output_type": "execute_result"
    }
   ],
   "source": [
    "df.shape"
   ]
  },
  {
   "cell_type": "code",
   "execution_count": 30,
   "id": "75d6bc5e",
   "metadata": {},
   "outputs": [
    {
     "data": {
      "text/plain": [
       "Index(['Age', 'Total Work Experience', 'Number of years in city',\n",
       "       'Cost to Request Ratio', 'Cibil score', 'Overdrafts past12months',\n",
       "       'Total bounces past12months'],\n",
       "      dtype='object')"
      ]
     },
     "execution_count": 30,
     "metadata": {},
     "output_type": "execute_result"
    }
   ],
   "source": [
    "df.columns"
   ]
  },
  {
   "cell_type": "code",
   "execution_count": 7,
   "id": "faa48b7d",
   "metadata": {},
   "outputs": [
    {
     "data": {
      "text/plain": [
       "Age                           0\n",
       "Total Work Experience         0\n",
       "Number of years in city       0\n",
       "Cost to Request Ratio         0\n",
       "Cibil score                   0\n",
       "Overdrafts past12months       0\n",
       "Total bounces past12months    0\n",
       "dtype: int64"
      ]
     },
     "execution_count": 7,
     "metadata": {},
     "output_type": "execute_result"
    }
   ],
   "source": [
    "# 2) Check for the null values\n",
    "df.isnull().sum()"
   ]
  },
  {
   "cell_type": "code",
   "execution_count": 8,
   "id": "eba5c317",
   "metadata": {},
   "outputs": [
    {
     "name": "stdout",
     "output_type": "stream",
     "text": [
      "<class 'pandas.core.frame.DataFrame'>\n",
      "RangeIndex: 8995 entries, 0 to 8994\n",
      "Data columns (total 7 columns):\n",
      " #   Column                      Non-Null Count  Dtype  \n",
      "---  ------                      --------------  -----  \n",
      " 0   Age                         8995 non-null   float64\n",
      " 1   Total Work Experience       8995 non-null   int64  \n",
      " 2   Number of years in city     8995 non-null   int64  \n",
      " 3   Cost to Request Ratio       8995 non-null   float64\n",
      " 4   Cibil score                 8995 non-null   int64  \n",
      " 5   Overdrafts past12months     8995 non-null   int64  \n",
      " 6   Total bounces past12months  8995 non-null   int64  \n",
      "dtypes: float64(2), int64(5)\n",
      "memory usage: 492.0 KB\n"
     ]
    }
   ],
   "source": [
    "# 3) Get basic information from data\n",
    "df.info()"
   ]
  },
  {
   "cell_type": "code",
   "execution_count": 9,
   "id": "f77b3ca5",
   "metadata": {},
   "outputs": [
    {
     "data": {
      "text/html": [
       "<div>\n",
       "<style scoped>\n",
       "    .dataframe tbody tr th:only-of-type {\n",
       "        vertical-align: middle;\n",
       "    }\n",
       "\n",
       "    .dataframe tbody tr th {\n",
       "        vertical-align: top;\n",
       "    }\n",
       "\n",
       "    .dataframe thead th {\n",
       "        text-align: right;\n",
       "    }\n",
       "</style>\n",
       "<table border=\"1\" class=\"dataframe\">\n",
       "  <thead>\n",
       "    <tr style=\"text-align: right;\">\n",
       "      <th></th>\n",
       "      <th>Age</th>\n",
       "      <th>Total Work Experience</th>\n",
       "      <th>Number of years in city</th>\n",
       "      <th>Cost to Request Ratio</th>\n",
       "      <th>Cibil score</th>\n",
       "      <th>Overdrafts past12months</th>\n",
       "      <th>Total bounces past12months</th>\n",
       "    </tr>\n",
       "  </thead>\n",
       "  <tbody>\n",
       "    <tr>\n",
       "      <th>count</th>\n",
       "      <td>8995.000000</td>\n",
       "      <td>8995.000000</td>\n",
       "      <td>8995.000000</td>\n",
       "      <td>8995.000000</td>\n",
       "      <td>8995.000000</td>\n",
       "      <td>8995.000000</td>\n",
       "      <td>8995.000000</td>\n",
       "    </tr>\n",
       "    <tr>\n",
       "      <th>mean</th>\n",
       "      <td>38.808202</td>\n",
       "      <td>2.131073</td>\n",
       "      <td>4.288160</td>\n",
       "      <td>0.831183</td>\n",
       "      <td>752.626570</td>\n",
       "      <td>0.322068</td>\n",
       "      <td>1.162757</td>\n",
       "    </tr>\n",
       "    <tr>\n",
       "      <th>std</th>\n",
       "      <td>10.203371</td>\n",
       "      <td>0.892141</td>\n",
       "      <td>1.269416</td>\n",
       "      <td>0.490216</td>\n",
       "      <td>67.645792</td>\n",
       "      <td>0.914998</td>\n",
       "      <td>2.352798</td>\n",
       "    </tr>\n",
       "    <tr>\n",
       "      <th>min</th>\n",
       "      <td>18.100000</td>\n",
       "      <td>1.000000</td>\n",
       "      <td>1.000000</td>\n",
       "      <td>0.008466</td>\n",
       "      <td>351.000000</td>\n",
       "      <td>0.000000</td>\n",
       "      <td>0.000000</td>\n",
       "    </tr>\n",
       "    <tr>\n",
       "      <th>25%</th>\n",
       "      <td>30.830000</td>\n",
       "      <td>1.000000</td>\n",
       "      <td>3.000000</td>\n",
       "      <td>0.662147</td>\n",
       "      <td>730.000000</td>\n",
       "      <td>0.000000</td>\n",
       "      <td>0.000000</td>\n",
       "    </tr>\n",
       "    <tr>\n",
       "      <th>50%</th>\n",
       "      <td>37.200000</td>\n",
       "      <td>2.000000</td>\n",
       "      <td>4.000000</td>\n",
       "      <td>0.800000</td>\n",
       "      <td>768.000000</td>\n",
       "      <td>0.000000</td>\n",
       "      <td>0.000000</td>\n",
       "    </tr>\n",
       "    <tr>\n",
       "      <th>75%</th>\n",
       "      <td>45.400000</td>\n",
       "      <td>3.000000</td>\n",
       "      <td>5.000000</td>\n",
       "      <td>0.930908</td>\n",
       "      <td>797.000000</td>\n",
       "      <td>0.000000</td>\n",
       "      <td>1.000000</td>\n",
       "    </tr>\n",
       "    <tr>\n",
       "      <th>max</th>\n",
       "      <td>83.800000</td>\n",
       "      <td>5.000000</td>\n",
       "      <td>6.000000</td>\n",
       "      <td>12.006623</td>\n",
       "      <td>882.000000</td>\n",
       "      <td>12.000000</td>\n",
       "      <td>12.000000</td>\n",
       "    </tr>\n",
       "  </tbody>\n",
       "</table>\n",
       "</div>"
      ],
      "text/plain": [
       "               Age  Total Work Experience  Number of years in city  \\\n",
       "count  8995.000000            8995.000000              8995.000000   \n",
       "mean     38.808202               2.131073                 4.288160   \n",
       "std      10.203371               0.892141                 1.269416   \n",
       "min      18.100000               1.000000                 1.000000   \n",
       "25%      30.830000               1.000000                 3.000000   \n",
       "50%      37.200000               2.000000                 4.000000   \n",
       "75%      45.400000               3.000000                 5.000000   \n",
       "max      83.800000               5.000000                 6.000000   \n",
       "\n",
       "       Cost to Request Ratio  Cibil score  Overdrafts past12months  \\\n",
       "count            8995.000000  8995.000000              8995.000000   \n",
       "mean                0.831183   752.626570                 0.322068   \n",
       "std                 0.490216    67.645792                 0.914998   \n",
       "min                 0.008466   351.000000                 0.000000   \n",
       "25%                 0.662147   730.000000                 0.000000   \n",
       "50%                 0.800000   768.000000                 0.000000   \n",
       "75%                 0.930908   797.000000                 0.000000   \n",
       "max                12.006623   882.000000                12.000000   \n",
       "\n",
       "       Total bounces past12months  \n",
       "count                 8995.000000  \n",
       "mean                     1.162757  \n",
       "std                      2.352798  \n",
       "min                      0.000000  \n",
       "25%                      0.000000  \n",
       "50%                      0.000000  \n",
       "75%                      1.000000  \n",
       "max                     12.000000  "
      ]
     },
     "execution_count": 9,
     "metadata": {},
     "output_type": "execute_result"
    }
   ],
   "source": [
    "# 4) Describe the dataset\n",
    "df.describe()"
   ]
  },
  {
   "cell_type": "code",
   "execution_count": 12,
   "id": "bdf4f4aa",
   "metadata": {},
   "outputs": [
    {
     "data": {
      "image/png": "[encoded data removed]",
      "text/plain": [
       "<Figure size 432x288 with 1 Axes>"
      ]
     },
     "metadata": {
      "needs_background": "light"
     },
     "output_type": "display_data"
    }
   ],
   "source": [
    "# 5) Display scatterplot between age & Total work Experience\n",
    "plt.xlabel=\"Age\"\n",
    "plt.ylabel=\"Total Work Experience\"\n",
    "\n",
    "plt.scatter(\"Age\",\"Total Work Experience\",data=df)\n",
    "plt.show()"
   ]
  },
  {
   "cell_type": "code",
   "execution_count": 19,
   "id": "dcc25e26",
   "metadata": {},
   "outputs": [
    {
     "data": {
      "text/plain": [
       "<AxesSubplot:>"
      ]
     },
     "execution_count": 19,
     "metadata": {},
     "output_type": "execute_result"
    },
    {
     "data": {
      "image/png": "[encoded data removed]",
      "text/plain": [
       "<Figure size 1440x720 with 1 Axes>"
      ]
     },
     "metadata": {
      "needs_background": "light"
     },
     "output_type": "display_data"
    }
   ],
   "source": [
    "# 6) Display box plot for age\n",
    "df.boxplot(\"Age\",figsize=(20,10))"
   ]
  },
  {
   "cell_type": "code",
   "execution_count": 28,
   "id": "ac46a371",
   "metadata": {},
   "outputs": [
    {
     "data": {
      "text/plain": [
       "array([40.5 , 41.25, 39.5 , ..., 57.2 , 65.11, 19.2 ])"
      ]
     },
     "execution_count": 28,
     "metadata": {},
     "output_type": "execute_result"
    }
   ],
   "source": [
    "df.Age.unique()"
   ]
  },
  {
   "cell_type": "code",
   "execution_count": 23,
   "id": "2f69dfa0",
   "metadata": {},
   "outputs": [
    {
     "data": {
      "text/plain": [
       "<AxesSubplot:>"
      ]
     },
     "execution_count": 23,
     "metadata": {},
     "output_type": "execute_result"
    },
    {
     "data": {
      "image/png": "[encoded data removed]",
      "text/plain": [
       "<Figure size 1440x720 with 1 Axes>"
      ]
     },
     "metadata": {
      "needs_background": "light"
     },
     "output_type": "display_data"
    }
   ],
   "source": [
    "# 7) Display box plot for Cibil score\n",
    "df.boxplot(\"Cibil score\",figsize=(20,10))"
   ]
  },
  {
   "cell_type": "code",
   "execution_count": 25,
   "id": "e948305f",
   "metadata": {},
   "outputs": [
    {
     "data": {
      "text/plain": [
       "array([594, 754, 779, 818, 853, 777, 837, 738, 714, 788, 826, 836, 763,\n",
       "       789, 764, 752, 663, 593, 731, 776, 840, 693, 784, 808, 857, 572,\n",
       "       817, 661, 803, 675, 737, 739, 791, 712, 800, 740, 741, 725, 605,\n",
       "       786, 801, 709, 546, 792, 769, 563, 825, 770, 848, 713, 774, 539,\n",
       "       766, 756, 781, 804, 498, 767, 820, 684, 748, 772, 831, 815, 619,\n",
       "       758, 521, 798, 785, 802, 727, 787, 730, 656, 614, 673, 806, 588,\n",
       "       755, 761, 624, 723, 852, 686, 724, 587, 522, 609, 749, 530, 726,\n",
       "       793, 578, 795, 783, 643, 575, 707, 844, 850, 811, 746, 771, 807,\n",
       "       863, 635, 778, 523, 782, 744, 834, 728, 617, 735, 760, 762, 830,\n",
       "       822, 773, 833, 805, 720, 745, 842, 672, 768, 627, 566, 622, 765,\n",
       "       810, 750, 715, 718, 751, 630, 719, 839, 704, 702, 871, 743, 736,\n",
       "       821, 548, 809, 757, 733, 639, 703, 832, 597, 682, 721, 823, 824,\n",
       "       742, 797, 585, 812, 794, 828, 634, 580, 796, 855, 799, 519, 700,\n",
       "       827, 816, 665, 759, 655, 775, 657, 734, 729, 859, 835, 676, 722,\n",
       "       561, 552, 611, 705, 553, 607, 790, 711, 780, 716, 732, 753, 717,\n",
       "       699, 576, 813, 689, 574, 667, 814, 438, 600, 632, 845, 637, 701,\n",
       "       608, 670, 851, 688, 400, 650, 819, 865, 621, 747, 568, 841, 606,\n",
       "       668, 535, 603, 565, 625, 640, 847, 628, 677, 695, 856, 697, 550,\n",
       "       598, 829, 567, 543, 838, 638, 651, 564, 545, 626, 541, 854, 681,\n",
       "       678, 691, 685, 518, 658, 620, 582, 581, 595, 653, 666, 849, 674,\n",
       "       860, 554, 491, 462, 577, 510, 559, 647, 526, 544, 706, 555, 533,\n",
       "       680, 569, 618, 843, 698, 633, 452, 551, 636, 846, 562, 547, 664,\n",
       "       690, 629, 669, 708, 696, 683, 589, 596, 872, 645, 531, 649, 710,\n",
       "       525, 556, 869, 571, 500, 450, 671, 599, 604, 549, 524, 584, 602,\n",
       "       558, 648, 662, 615, 870, 542, 507, 592, 573, 512, 591, 467, 557,\n",
       "       532, 527, 511, 610, 616, 641, 505, 694, 570, 659, 652, 538, 631,\n",
       "       861, 475, 692, 613, 862, 444, 463, 654, 679, 612, 590, 601, 513,\n",
       "       623, 579, 528, 644, 499, 351, 642, 687, 508, 516, 481, 858, 866,\n",
       "       583, 867, 660, 484, 868, 474, 646, 520, 437, 384, 490, 540, 457,\n",
       "       478, 473, 560, 489, 534, 586, 436, 392, 882, 864, 424, 468, 496,\n",
       "       515, 501, 874, 536, 493, 477], dtype=int64)"
      ]
     },
     "execution_count": 25,
     "metadata": {},
     "output_type": "execute_result"
    }
   ],
   "source": [
    "df[\"Cibil score\"].unique()"
   ]
  },
  {
   "cell_type": "code",
   "execution_count": 34,
   "id": "7e1f0af7",
   "metadata": {},
   "outputs": [],
   "source": [
    "# 8) Create target and features data where target is Total bounces past12months\n",
    "x=df.drop(\"Overdrafts past12months\",axis=1)\n",
    "y=df[\"Overdrafts past12months\"]"
   ]
  },
  {
   "cell_type": "code",
   "execution_count": 37,
   "id": "f4137878",
   "metadata": {},
   "outputs": [
    {
     "data": {
      "text/plain": [
       "(8995, 6)"
      ]
     },
     "execution_count": 37,
     "metadata": {},
     "output_type": "execute_result"
    }
   ],
   "source": [
    "x\n",
    "x.shape"
   ]
  },
  {
   "cell_type": "code",
   "execution_count": 38,
   "id": "942afc5f",
   "metadata": {},
   "outputs": [
    {
     "data": {
      "text/plain": [
       "(8995,)"
      ]
     },
     "execution_count": 38,
     "metadata": {},
     "output_type": "execute_result"
    }
   ],
   "source": [
    "y\n",
    "y.shape"
   ]
  },
  {
   "cell_type": "code",
   "execution_count": null,
   "id": "4fd4a182",
   "metadata": {},
   "outputs": [],
   "source": []
  },
  {
   "cell_type": "markdown",
   "id": "08490aff",
   "metadata": {},
   "source": [
    "# Part-2: Working with Model\n"
   ]
  },
  {
   "cell_type": "code",
   "execution_count": 192,
   "id": "b435dd97",
   "metadata": {},
   "outputs": [],
   "source": [
    "# 1) Split data into training and testing sets\n",
    "x_train,x_test,y_train,y_test=train_test_split(x,y,train_size=0.8,random_state=200)"
   ]
  },
  {
   "cell_type": "code",
   "execution_count": 193,
   "id": "280aeb2f",
   "metadata": {},
   "outputs": [
    {
     "data": {
      "text/plain": [
       "(7196, 6)"
      ]
     },
     "execution_count": 193,
     "metadata": {},
     "output_type": "execute_result"
    }
   ],
   "source": [
    "x_train\n",
    "x_train.shape"
   ]
  },
  {
   "cell_type": "code",
   "execution_count": 194,
   "id": "b68c8097",
   "metadata": {},
   "outputs": [
    {
     "data": {
      "text/plain": [
       "(1799, 6)"
      ]
     },
     "execution_count": 194,
     "metadata": {},
     "output_type": "execute_result"
    }
   ],
   "source": [
    "x_test\n",
    "x_test.shape"
   ]
  },
  {
   "cell_type": "code",
   "execution_count": 195,
   "id": "0c432a33",
   "metadata": {},
   "outputs": [
    {
     "data": {
      "text/plain": [
       "(7196,)"
      ]
     },
     "execution_count": 195,
     "metadata": {},
     "output_type": "execute_result"
    }
   ],
   "source": [
    "y_train\n",
    "y_train.shape"
   ]
  },
  {
   "cell_type": "code",
   "execution_count": 196,
   "id": "079fc263",
   "metadata": {},
   "outputs": [
    {
     "data": {
      "text/plain": [
       "(1799,)"
      ]
     },
     "execution_count": 196,
     "metadata": {},
     "output_type": "execute_result"
    }
   ],
   "source": [
    "y_test\n",
    "y_test.shape"
   ]
  },
  {
   "cell_type": "code",
   "execution_count": null,
   "id": "6ecbc013",
   "metadata": {},
   "outputs": [],
   "source": []
  },
  {
   "cell_type": "code",
   "execution_count": 197,
   "id": "b2e0ee21",
   "metadata": {},
   "outputs": [],
   "source": [
    "# 2) Create a KNN classifier between Features and target data\n",
    "knn = KNeighborsClassifier()"
   ]
  },
  {
   "cell_type": "code",
   "execution_count": 198,
   "id": "152658d6",
   "metadata": {},
   "outputs": [
    {
     "data": {
      "text/plain": [
       "KNeighborsClassifier()"
      ]
     },
     "execution_count": 198,
     "metadata": {},
     "output_type": "execute_result"
    }
   ],
   "source": [
    "knn.fit(x_train,y_train)"
   ]
  },
  {
   "cell_type": "code",
   "execution_count": 199,
   "id": "4453f508",
   "metadata": {},
   "outputs": [
    {
     "data": {
      "text/plain": [
       "array([0, 0, 0, ..., 1, 0, 0], dtype=int64)"
      ]
     },
     "execution_count": 199,
     "metadata": {},
     "output_type": "execute_result"
    }
   ],
   "source": [
    "y_predicted=knn.predict(x_test)\n",
    "y_predicted"
   ]
  },
  {
   "cell_type": "code",
   "execution_count": 200,
   "id": "595d6077",
   "metadata": {},
   "outputs": [
    {
     "data": {
      "text/plain": [
       "0.8568649249583101"
      ]
     },
     "execution_count": 200,
     "metadata": {},
     "output_type": "execute_result"
    }
   ],
   "source": [
    "# 3) Display the test score\n",
    "knn.score(x_train,y_train)"
   ]
  },
  {
   "cell_type": "code",
   "execution_count": 201,
   "id": "9a111af4",
   "metadata": {},
   "outputs": [
    {
     "data": {
      "text/plain": [
       "0.8326848249027238"
      ]
     },
     "execution_count": 201,
     "metadata": {},
     "output_type": "execute_result"
    }
   ],
   "source": [
    "# 4) Display the training score\n",
    "knn.score(x_test,y_test)"
   ]
  },
  {
   "cell_type": "code",
   "execution_count": 202,
   "id": "5cfcdcb4",
   "metadata": {},
   "outputs": [
    {
     "name": "stdout",
     "output_type": "stream",
     "text": [
      "Accuracy Score = 0.83\n"
     ]
    }
   ],
   "source": [
    "# 5) Print the accuracy score\n",
    "print(\"Accuracy Score = {0:.02f}\".format(accuracy_score(y_test,y_predicted)))"
   ]
  },
  {
   "cell_type": "code",
   "execution_count": 203,
   "id": "a11d90ef",
   "metadata": {},
   "outputs": [],
   "source": [
    "# 6) Try 1 to 14 k values for classifier\n",
    "train_scores=[]\n",
    "test_scores=[]\n",
    "\n",
    "for i in range(1,15):\n",
    "    knn=KNeighborsClassifier(i)\n",
    "    knn.fit(x_train,y_train)\n",
    "   \n",
    "    train_scores.append(knn.score(x_train,y_train))\n",
    "    test_scores.append(knn.score(x_test,y_test))\n",
    "\n",
    "        \n",
    "    "
   ]
  },
  {
   "cell_type": "code",
   "execution_count": 204,
   "id": "1ba1ea79",
   "metadata": {},
   "outputs": [
    {
     "data": {
      "text/plain": [
       "[1.0,\n",
       " 0.8811839911061701,\n",
       " 0.8806281267370761,\n",
       " 0.8575597554196775,\n",
       " 0.8568649249583101,\n",
       " 0.8458866036687048,\n",
       " 0.8486659255141745,\n",
       " 0.8419955530850473,\n",
       " 0.8419955530850473,\n",
       " 0.8371317398554753,\n",
       " 0.8354641467481935,\n",
       " 0.8321289605336298,\n",
       " 0.8306003335186215,\n",
       " 0.8303224013340745]"
      ]
     },
     "execution_count": 204,
     "metadata": {},
     "output_type": "execute_result"
    }
   ],
   "source": [
    "# 7) Display training and testing score for all the 1 to 14 k values\n",
    "train_scores"
   ]
  },
  {
   "cell_type": "code",
   "execution_count": 205,
   "id": "c1256a2d",
   "metadata": {},
   "outputs": [
    {
     "data": {
      "text/plain": [
       "[0.7976653696498055,\n",
       " 0.8276820455808782,\n",
       " 0.8299055030572541,\n",
       " 0.8382434685936632,\n",
       " 0.8326848249027238,\n",
       " 0.8382434685936632,\n",
       " 0.8371317398554753,\n",
       " 0.8371317398554753,\n",
       " 0.8382434685936632,\n",
       " 0.8382434685936632,\n",
       " 0.8315730961645359,\n",
       " 0.8354641467481935,\n",
       " 0.8365758754863813,\n",
       " 0.8382434685936632]"
      ]
     },
     "execution_count": 205,
     "metadata": {},
     "output_type": "execute_result"
    }
   ],
   "source": [
    "test_scores"
   ]
  },
  {
   "cell_type": "code",
   "execution_count": null,
   "id": "a65378bd",
   "metadata": {},
   "outputs": [],
   "source": []
  },
  {
   "cell_type": "code",
   "execution_count": 206,
   "id": "9f6a5499",
   "metadata": {},
   "outputs": [],
   "source": [
    "knn=KNeighborsClassifier(14)"
   ]
  },
  {
   "cell_type": "code",
   "execution_count": 207,
   "id": "99ad5943",
   "metadata": {},
   "outputs": [
    {
     "data": {
      "text/plain": [
       "KNeighborsClassifier(n_neighbors=14)"
      ]
     },
     "execution_count": 207,
     "metadata": {},
     "output_type": "execute_result"
    }
   ],
   "source": [
    "knn.fit(x_train,y_train)"
   ]
  },
  {
   "cell_type": "code",
   "execution_count": 208,
   "id": "481b3d38",
   "metadata": {},
   "outputs": [
    {
     "data": {
      "text/plain": [
       "0.8303224013340745"
      ]
     },
     "execution_count": 208,
     "metadata": {},
     "output_type": "execute_result"
    }
   ],
   "source": [
    "knn.score(x_train,y_train)"
   ]
  },
  {
   "cell_type": "code",
   "execution_count": 209,
   "id": "8c236288",
   "metadata": {},
   "outputs": [
    {
     "data": {
      "text/plain": [
       "0.8382434685936632"
      ]
     },
     "execution_count": 209,
     "metadata": {},
     "output_type": "execute_result"
    }
   ],
   "source": [
    "knn.score(x_test,y_test)"
   ]
  },
  {
   "cell_type": "code",
   "execution_count": 213,
   "id": "635dd2a6",
   "metadata": {},
   "outputs": [],
   "source": [
    "import warnings\n",
    "warnings.filterwarnings(\"ignore\")"
   ]
  },
  {
   "cell_type": "code",
   "execution_count": 215,
   "id": "6c024965",
   "metadata": {},
   "outputs": [],
   "source": [
    "from sklearn.metrics import classification_report"
   ]
  },
  {
   "cell_type": "code",
   "execution_count": 216,
   "id": "3145eca3",
   "metadata": {},
   "outputs": [
    {
     "name": "stdout",
     "output_type": "stream",
     "text": [
      "              precision    recall  f1-score   support\n",
      "\n",
      "           0       0.88      0.97      0.92      1470\n",
      "           1       0.43      0.29      0.34       251\n",
      "           2       0.40      0.06      0.11        33\n",
      "           3       0.00      0.00      0.00        17\n",
      "           4       0.00      0.00      0.00         7\n",
      "           5       0.00      0.00      0.00         8\n",
      "           6       0.00      0.00      0.00         4\n",
      "           7       0.00      0.00      0.00         3\n",
      "           8       0.00      0.00      0.00         3\n",
      "           9       0.00      0.00      0.00         2\n",
      "          11       0.00      0.00      0.00         1\n",
      "\n",
      "    accuracy                           0.83      1799\n",
      "   macro avg       0.16      0.12      0.12      1799\n",
      "weighted avg       0.79      0.83      0.80      1799\n",
      "\n"
     ]
    }
   ],
   "source": [
    "print(classification_report(y_test,y_predicted))"
   ]
  },
  {
   "cell_type": "code",
   "execution_count": null,
   "id": "bc1774f9",
   "metadata": {},
   "outputs": [],
   "source": []
  },
  {
   "cell_type": "code",
   "execution_count": null,
   "id": "801ecd73",
   "metadata": {},
   "outputs": [],
   "source": []
  }
 ],
 "metadata": {
  "kernelspec": {
   "display_name": "Python 3 (ipykernel)",
   "language": "python",
   "name": "python3"
  },
  "language_info": {
   "codemirror_mode": {
    "name": "ipython",
    "version": 3
   },
   "file_extension": ".py",
   "mimetype": "text/x-python",
   "name": "python",
   "nbconvert_exporter": "python",
   "pygments_lexer": "ipython3",
   "version": "3.9.7"
  }
 },
 "nbformat": 4,
 "nbformat_minor": 5
}
