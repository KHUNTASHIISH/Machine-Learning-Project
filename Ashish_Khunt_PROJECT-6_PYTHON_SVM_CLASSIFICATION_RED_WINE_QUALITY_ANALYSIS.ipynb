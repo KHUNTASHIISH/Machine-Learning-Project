{
 "cells": [
  {
   "cell_type": "code",
   "execution_count": 72,
   "id": "cc1a35b8",
   "metadata": {},
   "outputs": [],
   "source": [
    "import pandas as pd\n",
    "import numpy as np\n",
    "import matplotlib.pyplot as plt\n",
    "from sklearn.svm import SVC\n",
    "import seaborn as sns\n",
    "from sklearn.metrics import accuracy_score"
   ]
  },
  {
   "cell_type": "code",
   "execution_count": 4,
   "id": "331cae01",
   "metadata": {},
   "outputs": [
    {
     "name": "stdout",
     "output_type": "stream",
     "text": [
      "D:\\FINGERTIPS DATA SCIENCE\\READING MATERIALS\\PROJECTS\\PYTHON_ML\\PROJECT-6 Python SVM Classification Red Wine Quality Analysis\n"
     ]
    }
   ],
   "source": [
    "cd D:\\FINGERTIPS DATA SCIENCE\\READING MATERIALS\\PROJECTS\\PYTHON_ML\\PROJECT-6 Python SVM Classification Red Wine Quality Analysis"
   ]
  },
  {
   "cell_type": "markdown",
   "id": "e6774d1f",
   "metadata": {},
   "source": [
    "# Part-1: Data Exploration and Pre-processing\n"
   ]
  },
  {
   "cell_type": "code",
   "execution_count": 8,
   "id": "59e2b7e4",
   "metadata": {},
   "outputs": [
    {
     "data": {
      "text/html": [
       "<div>\n",
       "<style scoped>\n",
       "    .dataframe tbody tr th:only-of-type {\n",
       "        vertical-align: middle;\n",
       "    }\n",
       "\n",
       "    .dataframe tbody tr th {\n",
       "        vertical-align: top;\n",
       "    }\n",
       "\n",
       "    .dataframe thead th {\n",
       "        text-align: right;\n",
       "    }\n",
       "</style>\n",
       "<table border=\"1\" class=\"dataframe\">\n",
       "  <thead>\n",
       "    <tr style=\"text-align: right;\">\n",
       "      <th></th>\n",
       "      <th>Quality_Category</th>\n",
       "      <th>volatileacidity</th>\n",
       "      <th>citricacid</th>\n",
       "      <th>residualsugar</th>\n",
       "      <th>chlorides</th>\n",
       "      <th>freesulfurdioxide</th>\n",
       "      <th>totalsulfurdioxide</th>\n",
       "      <th>density</th>\n",
       "      <th>sulphates</th>\n",
       "      <th>alcohol</th>\n",
       "    </tr>\n",
       "  </thead>\n",
       "  <tbody>\n",
       "    <tr>\n",
       "      <th>0</th>\n",
       "      <td>0</td>\n",
       "      <td>0.30</td>\n",
       "      <td>0.34</td>\n",
       "      <td>1.6</td>\n",
       "      <td>0.049</td>\n",
       "      <td>14</td>\n",
       "      <td>132</td>\n",
       "      <td>0.994</td>\n",
       "      <td>0.49</td>\n",
       "      <td>9.5</td>\n",
       "    </tr>\n",
       "    <tr>\n",
       "      <th>1</th>\n",
       "      <td>0</td>\n",
       "      <td>0.23</td>\n",
       "      <td>0.32</td>\n",
       "      <td>8.5</td>\n",
       "      <td>0.058</td>\n",
       "      <td>47</td>\n",
       "      <td>186</td>\n",
       "      <td>0.996</td>\n",
       "      <td>0.40</td>\n",
       "      <td>9.9</td>\n",
       "    </tr>\n",
       "    <tr>\n",
       "      <th>2</th>\n",
       "      <td>0</td>\n",
       "      <td>0.28</td>\n",
       "      <td>0.40</td>\n",
       "      <td>6.9</td>\n",
       "      <td>0.050</td>\n",
       "      <td>30</td>\n",
       "      <td>97</td>\n",
       "      <td>0.995</td>\n",
       "      <td>0.44</td>\n",
       "      <td>10.1</td>\n",
       "    </tr>\n",
       "    <tr>\n",
       "      <th>3</th>\n",
       "      <td>0</td>\n",
       "      <td>0.32</td>\n",
       "      <td>0.16</td>\n",
       "      <td>7.0</td>\n",
       "      <td>0.045</td>\n",
       "      <td>30</td>\n",
       "      <td>136</td>\n",
       "      <td>0.995</td>\n",
       "      <td>0.47</td>\n",
       "      <td>9.6</td>\n",
       "    </tr>\n",
       "    <tr>\n",
       "      <th>4</th>\n",
       "      <td>0</td>\n",
       "      <td>0.27</td>\n",
       "      <td>0.36</td>\n",
       "      <td>20.7</td>\n",
       "      <td>0.045</td>\n",
       "      <td>45</td>\n",
       "      <td>170</td>\n",
       "      <td>1.001</td>\n",
       "      <td>0.45</td>\n",
       "      <td>8.8</td>\n",
       "    </tr>\n",
       "  </tbody>\n",
       "</table>\n",
       "</div>"
      ],
      "text/plain": [
       "   Quality_Category  volatileacidity  citricacid  residualsugar  chlorides  \\\n",
       "0                 0             0.30        0.34            1.6      0.049   \n",
       "1                 0             0.23        0.32            8.5      0.058   \n",
       "2                 0             0.28        0.40            6.9      0.050   \n",
       "3                 0             0.32        0.16            7.0      0.045   \n",
       "4                 0             0.27        0.36           20.7      0.045   \n",
       "\n",
       "   freesulfurdioxide  totalsulfurdioxide  density  sulphates  alcohol  \n",
       "0                 14                 132    0.994       0.49      9.5  \n",
       "1                 47                 186    0.996       0.40      9.9  \n",
       "2                 30                  97    0.995       0.44     10.1  \n",
       "3                 30                 136    0.995       0.47      9.6  \n",
       "4                 45                 170    1.001       0.45      8.8  "
      ]
     },
     "execution_count": 8,
     "metadata": {},
     "output_type": "execute_result"
    }
   ],
   "source": [
    "# 1) load the given dataset\n",
    "df=pd.read_csv(\"Python_Project_6_SVM.csv\")\n",
    "df.head()"
   ]
  },
  {
   "cell_type": "code",
   "execution_count": 7,
   "id": "2dff3b65",
   "metadata": {},
   "outputs": [
    {
     "data": {
      "text/plain": [
       "<bound method DataFrame.info of       Quality_Category  volatileacidity  citricacid  residualsugar  chlorides  \\\n",
       "0                    0             0.30        0.34            1.6      0.049   \n",
       "1                    0             0.23        0.32            8.5      0.058   \n",
       "2                    0             0.28        0.40            6.9      0.050   \n",
       "3                    0             0.32        0.16            7.0      0.045   \n",
       "4                    0             0.27        0.36           20.7      0.045   \n",
       "...                ...              ...         ...            ...        ...   \n",
       "4889                 0             0.21        0.29            1.6      0.039   \n",
       "4890                 0             0.32        0.36            8.0      0.047   \n",
       "4891                 0             0.24        0.19            1.2      0.041   \n",
       "4892                 1             0.29        0.30            1.1      0.022   \n",
       "4893                 0             0.21        0.38            0.8      0.020   \n",
       "\n",
       "      freesulfurdioxide  totalsulfurdioxide  density  sulphates  alcohol  \n",
       "0                    14                 132    0.994       0.49      9.5  \n",
       "1                    47                 186    0.996       0.40      9.9  \n",
       "2                    30                  97    0.995       0.44     10.1  \n",
       "3                    30                 136    0.995       0.47      9.6  \n",
       "4                    45                 170    1.001       0.45      8.8  \n",
       "...                 ...                 ...      ...        ...      ...  \n",
       "4889                 24                  92    0.991       0.50     11.2  \n",
       "4890                 57                 168    0.995       0.46      9.6  \n",
       "4891                 30                 111    0.993       0.46      9.4  \n",
       "4892                 20                 110    0.989       0.38     12.8  \n",
       "4893                 22                  98    0.989       0.32     11.8  \n",
       "\n",
       "[4894 rows x 10 columns]>"
      ]
     },
     "execution_count": 7,
     "metadata": {},
     "output_type": "execute_result"
    }
   ],
   "source": [
    "# 2) print the information from dataset\n",
    "df.info"
   ]
  },
  {
   "cell_type": "code",
   "execution_count": 9,
   "id": "045ff6bd",
   "metadata": {},
   "outputs": [
    {
     "data": {
      "text/html": [
       "<div>\n",
       "<style scoped>\n",
       "    .dataframe tbody tr th:only-of-type {\n",
       "        vertical-align: middle;\n",
       "    }\n",
       "\n",
       "    .dataframe tbody tr th {\n",
       "        vertical-align: top;\n",
       "    }\n",
       "\n",
       "    .dataframe thead th {\n",
       "        text-align: right;\n",
       "    }\n",
       "</style>\n",
       "<table border=\"1\" class=\"dataframe\">\n",
       "  <thead>\n",
       "    <tr style=\"text-align: right;\">\n",
       "      <th></th>\n",
       "      <th>Quality_Category</th>\n",
       "      <th>volatileacidity</th>\n",
       "      <th>citricacid</th>\n",
       "      <th>residualsugar</th>\n",
       "      <th>chlorides</th>\n",
       "      <th>freesulfurdioxide</th>\n",
       "      <th>totalsulfurdioxide</th>\n",
       "      <th>density</th>\n",
       "      <th>sulphates</th>\n",
       "      <th>alcohol</th>\n",
       "    </tr>\n",
       "  </thead>\n",
       "  <tbody>\n",
       "    <tr>\n",
       "      <th>count</th>\n",
       "      <td>4894.000000</td>\n",
       "      <td>4894.000000</td>\n",
       "      <td>4894.000000</td>\n",
       "      <td>4894.000000</td>\n",
       "      <td>4894.000000</td>\n",
       "      <td>4894.000000</td>\n",
       "      <td>4894.000000</td>\n",
       "      <td>4894.000000</td>\n",
       "      <td>4894.000000</td>\n",
       "      <td>4894.000000</td>\n",
       "    </tr>\n",
       "    <tr>\n",
       "      <th>mean</th>\n",
       "      <td>0.216387</td>\n",
       "      <td>0.278335</td>\n",
       "      <td>0.334146</td>\n",
       "      <td>6.391582</td>\n",
       "      <td>0.045773</td>\n",
       "      <td>35.311606</td>\n",
       "      <td>138.368615</td>\n",
       "      <td>0.994048</td>\n",
       "      <td>0.489904</td>\n",
       "      <td>10.514610</td>\n",
       "    </tr>\n",
       "    <tr>\n",
       "      <th>std</th>\n",
       "      <td>0.411823</td>\n",
       "      <td>0.100801</td>\n",
       "      <td>0.121047</td>\n",
       "      <td>5.071695</td>\n",
       "      <td>0.021855</td>\n",
       "      <td>17.019553</td>\n",
       "      <td>42.498278</td>\n",
       "      <td>0.003007</td>\n",
       "      <td>0.114153</td>\n",
       "      <td>1.230665</td>\n",
       "    </tr>\n",
       "    <tr>\n",
       "      <th>min</th>\n",
       "      <td>0.000000</td>\n",
       "      <td>0.080000</td>\n",
       "      <td>0.000000</td>\n",
       "      <td>0.600000</td>\n",
       "      <td>0.009000</td>\n",
       "      <td>2.000000</td>\n",
       "      <td>9.000000</td>\n",
       "      <td>0.987000</td>\n",
       "      <td>0.220000</td>\n",
       "      <td>8.000000</td>\n",
       "    </tr>\n",
       "    <tr>\n",
       "      <th>25%</th>\n",
       "      <td>0.000000</td>\n",
       "      <td>0.210000</td>\n",
       "      <td>0.270000</td>\n",
       "      <td>1.700000</td>\n",
       "      <td>0.036000</td>\n",
       "      <td>23.000000</td>\n",
       "      <td>108.000000</td>\n",
       "      <td>0.992000</td>\n",
       "      <td>0.410000</td>\n",
       "      <td>9.500000</td>\n",
       "    </tr>\n",
       "    <tr>\n",
       "      <th>50%</th>\n",
       "      <td>0.000000</td>\n",
       "      <td>0.260000</td>\n",
       "      <td>0.320000</td>\n",
       "      <td>5.200000</td>\n",
       "      <td>0.043000</td>\n",
       "      <td>34.000000</td>\n",
       "      <td>134.000000</td>\n",
       "      <td>0.994000</td>\n",
       "      <td>0.470000</td>\n",
       "      <td>10.400000</td>\n",
       "    </tr>\n",
       "    <tr>\n",
       "      <th>75%</th>\n",
       "      <td>0.000000</td>\n",
       "      <td>0.320000</td>\n",
       "      <td>0.390000</td>\n",
       "      <td>9.900000</td>\n",
       "      <td>0.050000</td>\n",
       "      <td>46.000000</td>\n",
       "      <td>167.000000</td>\n",
       "      <td>0.996000</td>\n",
       "      <td>0.550000</td>\n",
       "      <td>11.400000</td>\n",
       "    </tr>\n",
       "    <tr>\n",
       "      <th>max</th>\n",
       "      <td>1.000000</td>\n",
       "      <td>1.100000</td>\n",
       "      <td>1.660000</td>\n",
       "      <td>65.800000</td>\n",
       "      <td>0.346000</td>\n",
       "      <td>289.000000</td>\n",
       "      <td>440.000000</td>\n",
       "      <td>1.039000</td>\n",
       "      <td>1.080000</td>\n",
       "      <td>14.200000</td>\n",
       "    </tr>\n",
       "  </tbody>\n",
       "</table>\n",
       "</div>"
      ],
      "text/plain": [
       "       Quality_Category  volatileacidity   citricacid  residualsugar  \\\n",
       "count       4894.000000      4894.000000  4894.000000    4894.000000   \n",
       "mean           0.216387         0.278335     0.334146       6.391582   \n",
       "std            0.411823         0.100801     0.121047       5.071695   \n",
       "min            0.000000         0.080000     0.000000       0.600000   \n",
       "25%            0.000000         0.210000     0.270000       1.700000   \n",
       "50%            0.000000         0.260000     0.320000       5.200000   \n",
       "75%            0.000000         0.320000     0.390000       9.900000   \n",
       "max            1.000000         1.100000     1.660000      65.800000   \n",
       "\n",
       "         chlorides  freesulfurdioxide  totalsulfurdioxide      density  \\\n",
       "count  4894.000000        4894.000000         4894.000000  4894.000000   \n",
       "mean      0.045773          35.311606          138.368615     0.994048   \n",
       "std       0.021855          17.019553           42.498278     0.003007   \n",
       "min       0.009000           2.000000            9.000000     0.987000   \n",
       "25%       0.036000          23.000000          108.000000     0.992000   \n",
       "50%       0.043000          34.000000          134.000000     0.994000   \n",
       "75%       0.050000          46.000000          167.000000     0.996000   \n",
       "max       0.346000         289.000000          440.000000     1.039000   \n",
       "\n",
       "         sulphates      alcohol  \n",
       "count  4894.000000  4894.000000  \n",
       "mean      0.489904    10.514610  \n",
       "std       0.114153     1.230665  \n",
       "min       0.220000     8.000000  \n",
       "25%       0.410000     9.500000  \n",
       "50%       0.470000    10.400000  \n",
       "75%       0.550000    11.400000  \n",
       "max       1.080000    14.200000  "
      ]
     },
     "execution_count": 9,
     "metadata": {},
     "output_type": "execute_result"
    }
   ],
   "source": [
    "# 3) describe the dataset\n",
    "df.describe()"
   ]
  },
  {
   "cell_type": "code",
   "execution_count": 10,
   "id": "baad3164",
   "metadata": {},
   "outputs": [
    {
     "data": {
      "text/plain": [
       "Index(['Quality_Category', 'volatileacidity', 'citricacid', 'residualsugar',\n",
       "       'chlorides', 'freesulfurdioxide', 'totalsulfurdioxide', 'density',\n",
       "       'sulphates', 'alcohol'],\n",
       "      dtype='object')"
      ]
     },
     "execution_count": 10,
     "metadata": {},
     "output_type": "execute_result"
    }
   ],
   "source": [
    "# 4) print the column names from dataset\n",
    "df.columns"
   ]
  },
  {
   "cell_type": "code",
   "execution_count": 21,
   "id": "251782f1",
   "metadata": {},
   "outputs": [
    {
     "data": {
      "text/plain": [
       "<AxesSubplot:>"
      ]
     },
     "execution_count": 21,
     "metadata": {},
     "output_type": "execute_result"
    },
    {
     "data": {
      "image/png": "[encoded data removed]",
      "text/plain": [
       "<Figure size 720x360 with 1 Axes>"
      ]
     },
     "metadata": {
      "needs_background": "light"
     },
     "output_type": "display_data"
    }
   ],
   "source": [
    "# 5) display the barchart of Quality_Category value counts\n",
    "df.Quality_Category.value_counts().plot(kind='bar',figsize=(10,5))"
   ]
  },
  {
   "cell_type": "code",
   "execution_count": 23,
   "id": "93766b1a",
   "metadata": {},
   "outputs": [
    {
     "data": {
      "text/plain": [
       "<AxesSubplot:xlabel='Quality_Category', ylabel='count'>"
      ]
     },
     "execution_count": 23,
     "metadata": {},
     "output_type": "execute_result"
    },
    {
     "data": {
      "image/png": "[encoded data removed]",
      "text/plain": [
       "<Figure size 432x288 with 1 Axes>"
      ]
     },
     "metadata": {
      "needs_background": "light"
     },
     "output_type": "display_data"
    }
   ],
   "source": [
    "sns.countplot(\"Quality_Category\",data=df)"
   ]
  },
  {
   "cell_type": "code",
   "execution_count": 34,
   "id": "0ac15f63",
   "metadata": {},
   "outputs": [
    {
     "data": {
      "text/plain": [
       "<matplotlib.collections.PathCollection at 0x1f9e2696940>"
      ]
     },
     "execution_count": 34,
     "metadata": {},
     "output_type": "execute_result"
    },
    {
     "data": {
      "image/png": "[encoded data removed]",
      "text/plain": [
       "<Figure size 432x288 with 1 Axes>"
      ]
     },
     "metadata": {
      "needs_background": "light"
     },
     "output_type": "display_data"
    }
   ],
   "source": [
    "# 6) Display scatter plot between volatileacidity & citricacid\n",
    "plt.xlabel=\"volatileacidity\"\n",
    "plt.ylabel=\"citricacid\"\n",
    "plt.scatter(\"volatileacidity\",\"citricacid\",data=df)"
   ]
  },
  {
   "cell_type": "code",
   "execution_count": 29,
   "id": "fee019d1",
   "metadata": {},
   "outputs": [
    {
     "data": {
      "text/plain": [
       "array([0.3 , 0.23, 0.28, 0.32, 0.27, 0.22, 0.18, 0.16, 0.42, 0.17, 0.48,\n",
       "       0.34, 0.31, 0.66, 0.26, 0.67, 0.25, 0.24, 0.14, 0.12, 0.39, 0.33,\n",
       "       0.45, 0.46, 0.19, 0.2 , 0.21, 0.38, 0.47, 0.35, 0.54, 0.43, 0.44,\n",
       "       0.36, 0.13, 0.41, 0.49, 0.37, 0.6 , 0.29, 0.53, 0.15, 0.57, 0.4 ,\n",
       "       0.69, 0.5 , 0.64, 0.52, 0.58, 0.59, 0.55, 0.1 , 0.91, 0.51, 0.62,\n",
       "       0.56, 0.11, 0.71, 0.08, 0.68, 0.61, 0.85, 1.01, 0.76, 0.93, 0.7 ,\n",
       "       0.82, 0.97, 0.74, 0.78, 0.75, 0.09, 0.73, 0.65, 1.1 , 0.63, 0.79])"
      ]
     },
     "execution_count": 29,
     "metadata": {},
     "output_type": "execute_result"
    }
   ],
   "source": [
    "df[\"volatileacidity\"].unique()"
   ]
  },
  {
   "cell_type": "code",
   "execution_count": 30,
   "id": "8370415f",
   "metadata": {},
   "outputs": [
    {
     "data": {
      "text/plain": [
       "array([0.34, 0.32, 0.4 , 0.16, 0.36, 0.43, 0.41, 0.37, 0.62, 0.38, 0.04,\n",
       "       0.42, 0.14, 0.48, 0.35, 0.39, 0.2 , 0.23, 0.26, 0.27, 0.31, 0.25,\n",
       "       0.29, 0.33, 0.59, 0.15, 0.24, 0.07, 0.03, 0.13, 0.28, 0.46, 0.3 ,\n",
       "       0.61, 0.63, 0.66, 0.54, 0.5 , 0.  , 0.47, 0.56, 0.22, 0.67, 0.18,\n",
       "       0.45, 0.44, 0.88, 0.21, 0.08, 0.49, 0.58, 0.7 , 0.6 , 0.51, 0.1 ,\n",
       "       0.19, 0.12, 0.09, 0.53, 0.02, 0.65, 0.17, 0.71, 0.06, 0.68, 0.72,\n",
       "       0.69, 1.66, 0.57, 0.05, 0.52, 1.  , 0.01, 0.74, 0.81, 0.55, 0.64,\n",
       "       0.73, 0.99, 0.78, 0.79, 0.82, 0.8 , 1.23, 0.86, 0.11, 0.91])"
      ]
     },
     "execution_count": 30,
     "metadata": {},
     "output_type": "execute_result"
    }
   ],
   "source": [
    "df[\"citricacid\"].unique()"
   ]
  },
  {
   "cell_type": "code",
   "execution_count": 35,
   "id": "d9b6cc55",
   "metadata": {},
   "outputs": [
    {
     "data": {
      "image/png": "[encoded data removed]",
      "text/plain": [
       "<Figure size 432x288 with 1 Axes>"
      ]
     },
     "metadata": {
      "needs_background": "light"
     },
     "output_type": "display_data"
    }
   ],
   "source": [
    "# 7) Display scatter plot between residualsuger & chlorides\n",
    "plt.xlabel=\"residualsugar\"\n",
    "plt.ylabel=\"chlorides\"\n",
    "plt.scatter(\"residualsugar\",\"chlorides\",data=df)\n",
    "plt.show()"
   ]
  },
  {
   "cell_type": "code",
   "execution_count": 43,
   "id": "3504eb76",
   "metadata": {},
   "outputs": [
    {
     "data": {
      "image/png": "[encoded data removed]",
      "text/plain": [
       "<Figure size 432x288 with 1 Axes>"
      ]
     },
     "metadata": {
      "needs_background": "light"
     },
     "output_type": "display_data"
    }
   ],
   "source": [
    "# 8) Display scatterplot between sulphates and alcohol\n",
    "plt.xlabel=\"sulphates\"\n",
    "plt.ylabel=\"alcohol\"\n",
    "\n",
    "plt.scatter(df[\"sulphates\"],df[\"alcohol\"])\n",
    "plt.show()"
   ]
  },
  {
   "cell_type": "code",
   "execution_count": 41,
   "id": "42091e57",
   "metadata": {},
   "outputs": [
    {
     "data": {
      "text/plain": [
       "array([[<AxesSubplot:title={'center':'Quality_Category'}>,\n",
       "        <AxesSubplot:title={'center':'volatileacidity'}>,\n",
       "        <AxesSubplot:title={'center':'citricacid'}>],\n",
       "       [<AxesSubplot:title={'center':'residualsugar'}>,\n",
       "        <AxesSubplot:title={'center':'chlorides'}>,\n",
       "        <AxesSubplot:title={'center':'freesulfurdioxide'}>],\n",
       "       [<AxesSubplot:title={'center':'totalsulfurdioxide'}>,\n",
       "        <AxesSubplot:title={'center':'density'}>,\n",
       "        <AxesSubplot:title={'center':'sulphates'}>],\n",
       "       [<AxesSubplot:title={'center':'alcohol'}>, <AxesSubplot:>,\n",
       "        <AxesSubplot:>]], dtype=object)"
      ]
     },
     "execution_count": 41,
     "metadata": {},
     "output_type": "execute_result"
    },
    {
     "data": {
      "image/png": "[encoded data removed]",
      "text/plain": [
       "<Figure size 1440x720 with 12 Axes>"
      ]
     },
     "metadata": {
      "needs_background": "light"
     },
     "output_type": "display_data"
    }
   ],
   "source": [
    "# 9) Display histplot of dataset\n",
    "df.hist(figsize=(20,10))"
   ]
  },
  {
   "cell_type": "code",
   "execution_count": 45,
   "id": "64fd37da",
   "metadata": {},
   "outputs": [
    {
     "data": {
      "text/plain": [
       "Quality_Category      0\n",
       "volatileacidity       0\n",
       "citricacid            0\n",
       "residualsugar         0\n",
       "chlorides             0\n",
       "freesulfurdioxide     0\n",
       "totalsulfurdioxide    0\n",
       "density               0\n",
       "sulphates             0\n",
       "alcohol               0\n",
       "dtype: int64"
      ]
     },
     "execution_count": 45,
     "metadata": {},
     "output_type": "execute_result"
    }
   ],
   "source": [
    "# 10) find the null values\n",
    "df.isnull().sum()"
   ]
  },
  {
   "cell_type": "code",
   "execution_count": 46,
   "id": "2e7d6d1a",
   "metadata": {},
   "outputs": [],
   "source": [
    "# 11) create features and target data"
   ]
  },
  {
   "cell_type": "code",
   "execution_count": 50,
   "id": "9721b11b",
   "metadata": {},
   "outputs": [],
   "source": [
    "x=df.drop(\"Quality_Category\",axis=1)\n",
    "y=df[\"Quality_Category\"]"
   ]
  },
  {
   "cell_type": "code",
   "execution_count": 51,
   "id": "a66259d2",
   "metadata": {},
   "outputs": [
    {
     "data": {
      "text/plain": [
       "(4894, 9)"
      ]
     },
     "execution_count": 51,
     "metadata": {},
     "output_type": "execute_result"
    }
   ],
   "source": [
    "x.shape"
   ]
  },
  {
   "cell_type": "code",
   "execution_count": 54,
   "id": "21c18c1e",
   "metadata": {},
   "outputs": [
    {
     "data": {
      "text/plain": [
       "(4894,)"
      ]
     },
     "execution_count": 54,
     "metadata": {},
     "output_type": "execute_result"
    }
   ],
   "source": [
    "y.shape"
   ]
  },
  {
   "cell_type": "markdown",
   "id": "f177d226",
   "metadata": {},
   "source": [
    "# Part-2: Working with Models\n"
   ]
  },
  {
   "cell_type": "code",
   "execution_count": 56,
   "id": "12f3266e",
   "metadata": {},
   "outputs": [],
   "source": [
    "# 1) split into training and testing\n",
    "from sklearn.model_selection import train_test_split"
   ]
  },
  {
   "cell_type": "code",
   "execution_count": 129,
   "id": "8df63f8e",
   "metadata": {},
   "outputs": [],
   "source": [
    "x_train,x_test,y_train,y_test=train_test_split(x,y,train_size=0.8,random_state=0)"
   ]
  },
  {
   "cell_type": "code",
   "execution_count": 130,
   "id": "5f41a5d4",
   "metadata": {},
   "outputs": [
    {
     "data": {
      "text/plain": [
       "(3915, 9)"
      ]
     },
     "execution_count": 130,
     "metadata": {},
     "output_type": "execute_result"
    }
   ],
   "source": [
    "x_train\n",
    "x_train.shape"
   ]
  },
  {
   "cell_type": "code",
   "execution_count": 131,
   "id": "1b063836",
   "metadata": {},
   "outputs": [
    {
     "data": {
      "text/plain": [
       "(979, 9)"
      ]
     },
     "execution_count": 131,
     "metadata": {},
     "output_type": "execute_result"
    }
   ],
   "source": [
    "x_test\n",
    "x_test.shape"
   ]
  },
  {
   "cell_type": "code",
   "execution_count": 132,
   "id": "23b78ef3",
   "metadata": {},
   "outputs": [
    {
     "data": {
      "text/plain": [
       "(3915,)"
      ]
     },
     "execution_count": 132,
     "metadata": {},
     "output_type": "execute_result"
    }
   ],
   "source": [
    "y_train\n",
    "y_train.shape"
   ]
  },
  {
   "cell_type": "code",
   "execution_count": 133,
   "id": "d6d1cc07",
   "metadata": {},
   "outputs": [
    {
     "data": {
      "text/plain": [
       "(979,)"
      ]
     },
     "execution_count": 133,
     "metadata": {},
     "output_type": "execute_result"
    }
   ],
   "source": [
    "y_test\n",
    "y_test.shape"
   ]
  },
  {
   "cell_type": "code",
   "execution_count": 134,
   "id": "895bdcdb",
   "metadata": {},
   "outputs": [],
   "source": [
    "# 2) apply support vector machine\n",
    "from sklearn.svm import SVC"
   ]
  },
  {
   "cell_type": "code",
   "execution_count": 135,
   "id": "4ac32efc",
   "metadata": {},
   "outputs": [],
   "source": [
    "svc=SVC()"
   ]
  },
  {
   "cell_type": "code",
   "execution_count": 136,
   "id": "629f4ff6",
   "metadata": {},
   "outputs": [
    {
     "data": {
      "text/plain": [
       "SVC()"
      ]
     },
     "execution_count": 136,
     "metadata": {},
     "output_type": "execute_result"
    }
   ],
   "source": [
    "svc.fit(x_train,y_train)"
   ]
  },
  {
   "cell_type": "code",
   "execution_count": 137,
   "id": "117c5804",
   "metadata": {},
   "outputs": [
    {
     "data": {
      "text/plain": [
       "0.7787994891443167"
      ]
     },
     "execution_count": 137,
     "metadata": {},
     "output_type": "execute_result"
    }
   ],
   "source": [
    "# 3) show training score\n",
    "svc.score(x_train,y_train)"
   ]
  },
  {
   "cell_type": "code",
   "execution_count": 138,
   "id": "0cbb0a76",
   "metadata": {},
   "outputs": [
    {
     "data": {
      "text/plain": [
       "0.8028600612870276"
      ]
     },
     "execution_count": 138,
     "metadata": {},
     "output_type": "execute_result"
    }
   ],
   "source": [
    "# 4) show the testing score\n",
    "svc.score(x_test,y_test)"
   ]
  },
  {
   "cell_type": "code",
   "execution_count": 139,
   "id": "968d828a",
   "metadata": {},
   "outputs": [],
   "source": [
    "y_predicted=svc.predict(x_test)\n",
    "# print(y_predicted)"
   ]
  },
  {
   "cell_type": "code",
   "execution_count": 140,
   "id": "48316f3b",
   "metadata": {},
   "outputs": [
    {
     "data": {
      "text/plain": [
       "4028    0\n",
       "1755    0\n",
       "3833    0\n",
       "2078    0\n",
       "3382    1\n",
       "       ..\n",
       "1824    0\n",
       "2818    0\n",
       "3127    0\n",
       "230     0\n",
       "4483    0\n",
       "Name: Quality_Category, Length: 979, dtype: int64"
      ]
     },
     "execution_count": 140,
     "metadata": {},
     "output_type": "execute_result"
    }
   ],
   "source": [
    "y_test"
   ]
  },
  {
   "cell_type": "code",
   "execution_count": 141,
   "id": "f23a7bed",
   "metadata": {},
   "outputs": [
    {
     "data": {
      "text/plain": [
       "0.8028600612870276"
      ]
     },
     "execution_count": 141,
     "metadata": {},
     "output_type": "execute_result"
    }
   ],
   "source": [
    "# 5) show the accuracy\n",
    "accuracy_score(y_test,y_predicted)"
   ]
  },
  {
   "cell_type": "code",
   "execution_count": 143,
   "id": "71bb8662",
   "metadata": {},
   "outputs": [],
   "source": [
    "# 6) create a new model and try it with parameter c = 100\n",
    "svc1=SVC(C=100)\n",
    "# svc1=SVC(C=2)"
   ]
  },
  {
   "cell_type": "code",
   "execution_count": 144,
   "id": "b689bd35",
   "metadata": {},
   "outputs": [
    {
     "data": {
      "text/plain": [
       "SVC(C=100)"
      ]
     },
     "execution_count": 144,
     "metadata": {},
     "output_type": "execute_result"
    }
   ],
   "source": [
    "svc1.fit(x_train,y_train)"
   ]
  },
  {
   "cell_type": "code",
   "execution_count": 145,
   "id": "e2bdb37d",
   "metadata": {},
   "outputs": [
    {
     "data": {
      "text/plain": [
       "0.7787994891443167"
      ]
     },
     "execution_count": 145,
     "metadata": {},
     "output_type": "execute_result"
    }
   ],
   "source": [
    "svc1.score(x_train,y_train)"
   ]
  },
  {
   "cell_type": "code",
   "execution_count": 146,
   "id": "2c110a3e",
   "metadata": {},
   "outputs": [
    {
     "data": {
      "text/plain": [
       "0.8028600612870276"
      ]
     },
     "execution_count": 146,
     "metadata": {},
     "output_type": "execute_result"
    }
   ],
   "source": [
    "svc1.score(x_test,y_test)"
   ]
  },
  {
   "cell_type": "code",
   "execution_count": 147,
   "id": "4d252edf",
   "metadata": {},
   "outputs": [],
   "source": [
    "y1_predicted=svc1.predict(x_test)"
   ]
  },
  {
   "cell_type": "code",
   "execution_count": 148,
   "id": "1e42ec1a",
   "metadata": {},
   "outputs": [
    {
     "data": {
      "text/plain": [
       "0.8028600612870276"
      ]
     },
     "execution_count": 148,
     "metadata": {},
     "output_type": "execute_result"
    }
   ],
   "source": [
    "accuracy_score(y_test,y1_predicted)"
   ]
  },
  {
   "cell_type": "markdown",
   "id": "429ffbf7",
   "metadata": {},
   "source": [
    "# WITH RBF KERNEL"
   ]
  },
  {
   "cell_type": "code",
   "execution_count": 149,
   "id": "076cc71a",
   "metadata": {},
   "outputs": [],
   "source": [
    "rbf_svc=SVC(kernel='rbf')"
   ]
  },
  {
   "cell_type": "code",
   "execution_count": 150,
   "id": "2096d8f9",
   "metadata": {},
   "outputs": [
    {
     "data": {
      "text/plain": [
       "SVC()"
      ]
     },
     "execution_count": 150,
     "metadata": {},
     "output_type": "execute_result"
    }
   ],
   "source": [
    "rbf_svc.fit(x_train,y_train)"
   ]
  },
  {
   "cell_type": "code",
   "execution_count": 153,
   "id": "24f36580",
   "metadata": {},
   "outputs": [],
   "source": [
    "y_rbf_predict=rbf_svc.predict(x_test)"
   ]
  },
  {
   "cell_type": "code",
   "execution_count": 151,
   "id": "f6d165ea",
   "metadata": {},
   "outputs": [
    {
     "data": {
      "text/plain": [
       "0.7787994891443167"
      ]
     },
     "execution_count": 151,
     "metadata": {},
     "output_type": "execute_result"
    }
   ],
   "source": [
    "rbf_svc.score(x_train,y_train)"
   ]
  },
  {
   "cell_type": "code",
   "execution_count": 154,
   "id": "7c99ffed",
   "metadata": {},
   "outputs": [
    {
     "data": {
      "text/plain": [
       "0.8028600612870276"
      ]
     },
     "execution_count": 154,
     "metadata": {},
     "output_type": "execute_result"
    }
   ],
   "source": [
    "rbf_svc.score(x_test,y_test)"
   ]
  },
  {
   "cell_type": "code",
   "execution_count": 155,
   "id": "30e3e0c7",
   "metadata": {},
   "outputs": [
    {
     "data": {
      "text/plain": [
       "0.8028600612870276"
      ]
     },
     "execution_count": 155,
     "metadata": {},
     "output_type": "execute_result"
    }
   ],
   "source": [
    "accuracy_score(y_test,y_rbf_predict)"
   ]
  },
  {
   "cell_type": "code",
   "execution_count": 159,
   "id": "6f4f40d3",
   "metadata": {},
   "outputs": [],
   "source": [
    "import warnings\n",
    "warnings.filterwarnings(\"ignore\")"
   ]
  },
  {
   "cell_type": "code",
   "execution_count": 160,
   "id": "1d0a9cc4",
   "metadata": {},
   "outputs": [
    {
     "name": "stdout",
     "output_type": "stream",
     "text": [
      "              precision    recall  f1-score   support\n",
      "\n",
      "           0       0.80      1.00      0.89       786\n",
      "           1       0.00      0.00      0.00       193\n",
      "\n",
      "    accuracy                           0.80       979\n",
      "   macro avg       0.40      0.50      0.45       979\n",
      "weighted avg       0.64      0.80      0.72       979\n",
      "\n"
     ]
    }
   ],
   "source": [
    "from sklearn.metrics import classification_report\n",
    "\n",
    "print(classification_report(y_test, y_predicted))"
   ]
  }
 ],
 "metadata": {
  "kernelspec": {
   "display_name": "Python 3 (ipykernel)",
   "language": "python",
   "name": "python3"
  },
  "language_info": {
   "codemirror_mode": {
    "name": "ipython",
    "version": 3
   },
   "file_extension": ".py",
   "mimetype": "text/x-python",
   "name": "python",
   "nbconvert_exporter": "python",
   "pygments_lexer": "ipython3",
   "version": "3.9.7"
  }
 },
 "nbformat": 4,
 "nbformat_minor": 5
}
